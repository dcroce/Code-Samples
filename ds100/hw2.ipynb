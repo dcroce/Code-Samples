{
 "cells": [
  {
   "cell_type": "markdown",
   "metadata": {},
   "source": [
    "# Homework 2: Food Safety \n",
    "## Cleaning and Exploring Data with Pandas"
   ]
  },
  {
   "cell_type": "markdown",
   "metadata": {},
   "source": [
    "<img src=\"scoreCard.jpg\" width=400>\n",
    "\n",
    "In this homework, you will investigate restaurant food safety scores for restaurants in San Francisco. Above is a sample score card for a restaurant. The scores and violation information have been made available by the San Francisco Department of Public Health, and we have made these data available to you via the DS 100 repository. The main goal for this assignment is to understand how restaurants are scored. We will walk through the various steps of exploratory data analysis to do this. To give you a sense of how we think about each discovery we make and what next steps it leads to we will provide comments and insights along the way.\n",
    "\n",
    "As we clean and explore these data, you will gain practice with:\n",
    "* Reading simple csv files\n",
    "* Working with data at different levels of granularity\n",
    "* Identifying the type of data collected, missing values, anomalies, etc.\n",
    "* Exploring characteristics and distributions of individual variables"
   ]
  },
  {
   "cell_type": "markdown",
   "metadata": {},
   "source": [
    "### Question 0\n",
    "\n",
    "To start the assignment, run the cell below to set up some imports and the automatic tests that we will need for this assignment:"
   ]
  },
  {
   "cell_type": "code",
   "execution_count": 72,
   "metadata": {},
   "outputs": [
    {
     "name": "stdout",
     "output_type": "stream",
     "text": [
      "=====================================================================\n",
      "Assignment: Homework 2\n",
      "OK, version v1.12.10\n",
      "=====================================================================\n",
      "\n"
     ]
    }
   ],
   "source": [
    "import os\n",
    "from IPython.display import display, Latex, Markdown\n",
    "from client.api.notebook import Notebook\n",
    "ok = Notebook('hw2.ok')"
   ]
  },
  {
   "cell_type": "markdown",
   "metadata": {},
   "source": [
    "In many of these assignments (and your future adventures as a data scientist) you will use pandas, numpy, matplotlib.pyplot, and seaborn.  \n",
    "\n",
    "1. Import each of these libraries `as` their commonly used abbreviations (e.g., `pd`, `np`, `plt`, and `sns`).  \n",
    "1. Don't forget to use the jupyter notebook \"magic\" to enable [inline matploblib plots](http://ipython.readthedocs.io/en/stable/interactive/magics.html#magic-matplotlib). \n",
    "1. Add the line `sns.set()` to make your plots look nicer."
   ]
  },
  {
   "cell_type": "code",
   "execution_count": 73,
   "metadata": {
    "tags": [
     "student"
    ]
   },
   "outputs": [],
   "source": [
    "import numpy as np\n",
    "import pandas as pd\n",
    "import seaborn as sns\n",
    "import matplotlib.pyplot as plt\n",
    "%matplotlib inline\n",
    "sns.set()"
   ]
  },
  {
   "cell_type": "markdown",
   "metadata": {},
   "source": [
    "Now, run this cell to log into OkPy:"
   ]
  },
  {
   "cell_type": "code",
   "execution_count": 74,
   "metadata": {},
   "outputs": [
    {
     "name": "stdout",
     "output_type": "stream",
     "text": [
      "\n",
      "Open the following URL:\n",
      "\n",
      "https://okpy.org/client/login/\n",
      "\n",
      "After logging in, copy the code from the web page and paste it into the box.\n",
      "Then press the \"Enter\" key on your keyboard.\n",
      "\n",
      "Paste your code here: cMMqJgTo9VLyYvqdwRnVFXBUbiNEWx\n",
      "Successfully logged in as dcroce@berkeley.edu\n"
     ]
    }
   ],
   "source": [
    "# Sometimes you'll run into an OAuth bug when you run ok.auth(). If so,\n",
    "# uncomment this line of code and run this cell again.\n",
    "os.remove(os.path.join(os.path.expanduser('~'), '.config', 'ok', 'auth_refresh'))\n",
    "\n",
    "ok.auth()"
   ]
  },
  {
   "cell_type": "markdown",
   "metadata": {},
   "source": [
    "## Loading Food Safety Data\n",
    "\n",
    "To begin our investigation, we need to understand the structure of the data. Recall this involves answering questions such as \n",
    "\n",
    "* Is the data in a standard format or encoding?\n",
    "* Is the data organized in records?\n",
    "* What are the fields in each record?\n",
    "\n",
    "There are 4 files in the data directory.  Use the `ls -lh` command to list all the files and their sizes stored in the data directory.\n",
    "\n",
    "**Note for Windows users:** Unfortunately, since Windows is not a UNIX system most lines of shell code won't work. You can reference http://simplyadvanced.net/blog/cheat-sheet-for-windows-command-prompt/ for how to translate the code into the Windows command prompt, or you can use http://datahub.berkeley.edu/, or if you're feeling adventurous you can try to [set up Anaconda in Bash environment that Windows has recently started to support](http://www.cgranade.com/blog/2016/08/22/qutip-on-wsl.html)."
   ]
  },
  {
   "cell_type": "code",
   "execution_count": 75,
   "metadata": {
    "tags": [
     "student"
    ]
   },
   "outputs": [
    {
     "name": "stdout",
     "output_type": "stream",
     "text": [
      "total 9904\r\n",
      "-rwxr-xr-x@ 1 dominiccroce  staff   645K Sep  7 12:20 \u001b[31mbusinesses.csv\u001b[m\u001b[m\r\n",
      "-rwxr-xr-x@ 1 dominiccroce  staff   493K Sep  7 12:20 \u001b[31minspections.csv\u001b[m\u001b[m\r\n",
      "-rwxr-xr-x@ 1 dominiccroce  staff   120B Sep  7 12:20 \u001b[31mlegend.csv\u001b[m\u001b[m\r\n",
      "-rwxr-xr-x@ 1 dominiccroce  staff   3.7M Sep  7 12:20 \u001b[31mviolations.csv\u001b[m\u001b[m\r\n"
     ]
    }
   ],
   "source": [
    "!ls -lh data"
   ]
  },
  {
   "cell_type": "markdown",
   "metadata": {},
   "source": [
    "### Question 1a\n",
    "\n",
    "From the above output we see that one of the files is relatively small.  Use the `cat` command to cat that file and print what it contains.  "
   ]
  },
  {
   "cell_type": "code",
   "execution_count": 76,
   "metadata": {
    "tags": [
     "student"
    ]
   },
   "outputs": [
    {
     "name": "stdout",
     "output_type": "stream",
     "text": [
      "\"Minimum_Score\",\"Maximum_Score\",\"Description\"\r",
      "\r\n",
      "0,70,\"Poor\"\r",
      "\r\n",
      "71,85,\"Needs Improvement\"\r",
      "\r\n",
      "86,90,\"Adequate\"\r",
      "\r\n",
      "91,100,\"Good\"\r",
      "\r\n"
     ]
    }
   ],
   "source": [
    "!cat data/legend.csv"
   ]
  },
  {
   "cell_type": "markdown",
   "metadata": {},
   "source": [
    "### Question 1b\n",
    "\n",
    "Run the `head` command to verify that the remaining files are also CSV formatted as their file extension suggests"
   ]
  },
  {
   "cell_type": "code",
   "execution_count": 77,
   "metadata": {},
   "outputs": [
    {
     "name": "stdout",
     "output_type": "stream",
     "text": [
      "==> data/businesses.csv <==\r\n",
      "\"business_id\",\"name\",\"address\",\"city\",\"state\",\"postal_code\",\"latitude\",\"longitude\",\"phone_number\"\r",
      "\r\n",
      "10,\"TIRAMISU KITCHEN\",\"033 BELDEN PL\",\"San Francisco\",\"CA\",\"94104\",\"37.791116\",\"-122.403816\",\"+14154217044\"\r",
      "\r\n",
      "19,\"NRGIZE LIFESTYLE CAFE\",\"1200 VAN NESS AVE, 3RD FLOOR\",\"San Francisco\",\"CA\",\"94109\",\"37.786848\",\"-122.421547\",\"+14157763262\"\r",
      "\r\n",
      "24,\"OMNI S.F. HOTEL - 2ND FLOOR PANTRY\",\"500 CALIFORNIA ST, 2ND  FLOOR\",\"San Francisco\",\"CA\",\"94104\",\"37.792888\",\"-122.403135\",\"+14156779494\"\r",
      "\r\n",
      "31,\"NORMAN'S ICE CREAM AND FREEZES\",\"2801 LEAVENWORTH ST \",\"San Francisco\",\"CA\",\"94133\",\"37.807155\",\"-122.419004\",\"\"\r",
      "\r\n",
      "45,\"CHARLIE'S DELI CAFE\",\"3202 FOLSOM ST \",\"San Francisco\",\"CA\",\"94110\",\"37.747114\",\"-122.413641\",\"+14156415051\"\r",
      "\r\n",
      "48,\"ART'S CAFE\",\"747 IRVING ST \",\"San Francisco\",\"CA\",\"94122\",\"37.764013\",\"-122.465749\",\"+14156657440\"\r",
      "\r\n",
      "50,\"SUSHI ZONE\",\"1815  MARKET ST. \",\"San Francisco\",\"CA\",\"94103\",\"37.771437\",\"-122.423892\",\"+14156211114\"\r",
      "\r\n",
      "54,\"RHODA GOLDMAN PLAZA\",\"2180 POST ST \",\"San Francisco\",\"CA\",\"94115\",\"37.784626\",\"-122.437734\",\"+14153455060\"\r",
      "\r\n",
      "56,\"CAFE X + O\",\"1799 CHURCH ST \",\"San Francisco\",\"CA\",\"94131\",\"37.742325\",\"-122.426476\",\"+14158263535\"\r",
      "\r\n",
      "\r\n",
      "==> data/inspections.csv <==\r\n",
      "\"business_id\",\"score\",\"date\",\"type\"\r",
      "\r\n",
      "10,\"82\",\"20160503\",\"routine\"\r",
      "\r\n",
      "10,\"94\",\"20140729\",\"routine\"\r",
      "\r\n",
      "10,\"92\",\"20140114\",\"routine\"\r",
      "\r\n",
      "19,\"94\",\"20160513\",\"routine\"\r",
      "\r\n",
      "19,\"94\",\"20141110\",\"routine\"\r",
      "\r\n",
      "19,\"94\",\"20140214\",\"routine\"\r",
      "\r\n",
      "24,\"98\",\"20161005\",\"routine\"\r",
      "\r\n",
      "24,\"96\",\"20160311\",\"routine\"\r",
      "\r\n",
      "24,\"96\",\"20141124\",\"routine\"\r",
      "\r\n",
      "\r\n",
      "==> data/legend.csv <==\r\n",
      "\"Minimum_Score\",\"Maximum_Score\",\"Description\"\r",
      "\r\n",
      "0,70,\"Poor\"\r",
      "\r\n",
      "71,85,\"Needs Improvement\"\r",
      "\r\n",
      "86,90,\"Adequate\"\r",
      "\r\n",
      "91,100,\"Good\"\r",
      "\r\n",
      "\r\n",
      "==> data/violations.csv <==\r\n",
      "\"business_id\",\"date\",\"description\"\r",
      "\r\n",
      "10,\"20160503\",\"High risk food holding temperature   [ date violation corrected: 5/3/2016 ]\"\r",
      "\r\n",
      "10,\"20160503\",\"High risk food holding temperature   [ date violation corrected: 5/3/2016 ]\"\r",
      "\r\n",
      "10,\"20160503\",\"High risk vermin infestation\"\r",
      "\r\n",
      "10,\"20160503\",\"Unapproved or unmaintained equipment or utensils\"\r",
      "\r\n",
      "10,\"20160503\",\"No thermometers or uncalibrated thermometers \"\r",
      "\r\n",
      "10,\"20140729\",\"Insufficient hot water or running water  [ date violation corrected: 8/7/2014 ]\"\r",
      "\r\n",
      "10,\"20140729\",\"Unapproved or unmaintained equipment or utensils  [ date violation corrected: 8/7/2014 ]\"\r",
      "\r\n",
      "10,\"20140114\",\"Improper storage of equipment utensils or linens  [ date violation corrected: 1/24/2014 ]\"\r",
      "\r\n",
      "10,\"20140114\",\"Unclean or degraded floors walls or ceilings  [ date violation corrected: 1/24/2014 ]\"\r",
      "\r\n"
     ]
    }
   ],
   "source": [
    "!head data/*"
   ]
  },
  {
   "cell_type": "markdown",
   "metadata": {},
   "source": [
    "Answer the following boolean expressions using (True or False)."
   ]
  },
  {
   "cell_type": "code",
   "execution_count": 78,
   "metadata": {
    "collapsed": true,
    "tags": [
     "student"
    ]
   },
   "outputs": [],
   "source": [
    "# Are all the files CSV files?\n",
    "all_files_appear_to_be_csv = True\n",
    "\n",
    "# Do all the files have a header line?\n",
    "all_files_contain_headers = True\n",
    "\n",
    "# Do all the strings in the file have quotes around them?\n",
    "strings_appear_quoted = True\n"
   ]
  },
  {
   "cell_type": "markdown",
   "metadata": {},
   "source": [
    "### Question 1c\n",
    "\n",
    "Run the following command to determine the file encoding of each of these files"
   ]
  },
  {
   "cell_type": "code",
   "execution_count": 79,
   "metadata": {},
   "outputs": [
    {
     "name": "stdout",
     "output_type": "stream",
     "text": [
      "data/businesses.csv:  ISO-8859 text, with CRLF line terminators\n",
      "data/inspections.csv: ASCII text, with CRLF line terminators\n",
      "data/legend.csv:      ASCII text, with CRLF line terminators\n",
      "data/violations.csv:  ASCII text, with CRLF line terminators\n"
     ]
    }
   ],
   "source": [
    "!file data/*"
   ]
  },
  {
   "cell_type": "markdown",
   "metadata": {},
   "source": [
    "Based on the above information let's attempt to load the `businesses.csv`, `inspections.csv`, and the `violations.csv` into pandas data frames with the following names `bus`, `ins`, and `vio`.  Because of character encoding issues one of the files will require an additional argument `encoding='ISO-8859-1'` when calling `pd.read_csv`. "
   ]
  },
  {
   "cell_type": "code",
   "execution_count": 80,
   "metadata": {
    "collapsed": true,
    "tags": [
     "student"
    ]
   },
   "outputs": [],
   "source": [
    "# path to directory containing data\n",
    "dsDir = \"data/\"\n",
    "\n",
    "bus = pd.read_csv(dsDir + \"businesses.csv\", encoding = \"ISO-8859-1\")\n",
    "ins = pd.read_csv(dsDir + \"inspections.csv\")\n",
    "vio = pd.read_csv(dsDir + \"violations.csv\")"
   ]
  },
  {
   "cell_type": "markdown",
   "metadata": {},
   "source": [
    "Run the following cells in order to view a portion of each dataframe."
   ]
  },
  {
   "cell_type": "code",
   "execution_count": 81,
   "metadata": {},
   "outputs": [
    {
     "data": {
      "text/html": [
       "<div>\n",
       "<style>\n",
       "    .dataframe thead tr:only-child th {\n",
       "        text-align: right;\n",
       "    }\n",
       "\n",
       "    .dataframe thead th {\n",
       "        text-align: left;\n",
       "    }\n",
       "\n",
       "    .dataframe tbody tr th {\n",
       "        vertical-align: top;\n",
       "    }\n",
       "</style>\n",
       "<table border=\"1\" class=\"dataframe\">\n",
       "  <thead>\n",
       "    <tr style=\"text-align: right;\">\n",
       "      <th></th>\n",
       "      <th>business_id</th>\n",
       "      <th>name</th>\n",
       "      <th>address</th>\n",
       "      <th>city</th>\n",
       "      <th>state</th>\n",
       "      <th>postal_code</th>\n",
       "      <th>latitude</th>\n",
       "      <th>longitude</th>\n",
       "      <th>phone_number</th>\n",
       "    </tr>\n",
       "  </thead>\n",
       "  <tbody>\n",
       "    <tr>\n",
       "      <th>0</th>\n",
       "      <td>10</td>\n",
       "      <td>TIRAMISU KITCHEN</td>\n",
       "      <td>033 BELDEN PL</td>\n",
       "      <td>San Francisco</td>\n",
       "      <td>CA</td>\n",
       "      <td>94104</td>\n",
       "      <td>37.791116</td>\n",
       "      <td>-122.403816</td>\n",
       "      <td>+14154217044</td>\n",
       "    </tr>\n",
       "    <tr>\n",
       "      <th>1</th>\n",
       "      <td>19</td>\n",
       "      <td>NRGIZE LIFESTYLE CAFE</td>\n",
       "      <td>1200 VAN NESS AVE, 3RD FLOOR</td>\n",
       "      <td>San Francisco</td>\n",
       "      <td>CA</td>\n",
       "      <td>94109</td>\n",
       "      <td>37.786848</td>\n",
       "      <td>-122.421547</td>\n",
       "      <td>+14157763262</td>\n",
       "    </tr>\n",
       "    <tr>\n",
       "      <th>2</th>\n",
       "      <td>24</td>\n",
       "      <td>OMNI S.F. HOTEL - 2ND FLOOR PANTRY</td>\n",
       "      <td>500 CALIFORNIA ST, 2ND  FLOOR</td>\n",
       "      <td>San Francisco</td>\n",
       "      <td>CA</td>\n",
       "      <td>94104</td>\n",
       "      <td>37.792888</td>\n",
       "      <td>-122.403135</td>\n",
       "      <td>+14156779494</td>\n",
       "    </tr>\n",
       "    <tr>\n",
       "      <th>3</th>\n",
       "      <td>31</td>\n",
       "      <td>NORMAN'S ICE CREAM AND FREEZES</td>\n",
       "      <td>2801 LEAVENWORTH ST</td>\n",
       "      <td>San Francisco</td>\n",
       "      <td>CA</td>\n",
       "      <td>94133</td>\n",
       "      <td>37.807155</td>\n",
       "      <td>-122.419004</td>\n",
       "      <td>NaN</td>\n",
       "    </tr>\n",
       "    <tr>\n",
       "      <th>4</th>\n",
       "      <td>45</td>\n",
       "      <td>CHARLIE'S DELI CAFE</td>\n",
       "      <td>3202 FOLSOM ST</td>\n",
       "      <td>San Francisco</td>\n",
       "      <td>CA</td>\n",
       "      <td>94110</td>\n",
       "      <td>37.747114</td>\n",
       "      <td>-122.413641</td>\n",
       "      <td>+14156415051</td>\n",
       "    </tr>\n",
       "  </tbody>\n",
       "</table>\n",
       "</div>"
      ],
      "text/plain": [
       "   business_id                                name  \\\n",
       "0           10                    TIRAMISU KITCHEN   \n",
       "1           19               NRGIZE LIFESTYLE CAFE   \n",
       "2           24  OMNI S.F. HOTEL - 2ND FLOOR PANTRY   \n",
       "3           31      NORMAN'S ICE CREAM AND FREEZES   \n",
       "4           45                 CHARLIE'S DELI CAFE   \n",
       "\n",
       "                         address           city state postal_code   latitude  \\\n",
       "0                  033 BELDEN PL  San Francisco    CA       94104  37.791116   \n",
       "1   1200 VAN NESS AVE, 3RD FLOOR  San Francisco    CA       94109  37.786848   \n",
       "2  500 CALIFORNIA ST, 2ND  FLOOR  San Francisco    CA       94104  37.792888   \n",
       "3           2801 LEAVENWORTH ST   San Francisco    CA       94133  37.807155   \n",
       "4                3202 FOLSOM ST   San Francisco    CA       94110  37.747114   \n",
       "\n",
       "    longitude  phone_number  \n",
       "0 -122.403816  +14154217044  \n",
       "1 -122.421547  +14157763262  \n",
       "2 -122.403135  +14156779494  \n",
       "3 -122.419004           NaN  \n",
       "4 -122.413641  +14156415051  "
      ]
     },
     "execution_count": 81,
     "metadata": {},
     "output_type": "execute_result"
    }
   ],
   "source": [
    "bus.head(5)"
   ]
  },
  {
   "cell_type": "code",
   "execution_count": 82,
   "metadata": {},
   "outputs": [
    {
     "data": {
      "text/html": [
       "<div>\n",
       "<style>\n",
       "    .dataframe thead tr:only-child th {\n",
       "        text-align: right;\n",
       "    }\n",
       "\n",
       "    .dataframe thead th {\n",
       "        text-align: left;\n",
       "    }\n",
       "\n",
       "    .dataframe tbody tr th {\n",
       "        vertical-align: top;\n",
       "    }\n",
       "</style>\n",
       "<table border=\"1\" class=\"dataframe\">\n",
       "  <thead>\n",
       "    <tr style=\"text-align: right;\">\n",
       "      <th></th>\n",
       "      <th>business_id</th>\n",
       "      <th>score</th>\n",
       "      <th>date</th>\n",
       "      <th>type</th>\n",
       "    </tr>\n",
       "  </thead>\n",
       "  <tbody>\n",
       "    <tr>\n",
       "      <th>0</th>\n",
       "      <td>10</td>\n",
       "      <td>82</td>\n",
       "      <td>20160503</td>\n",
       "      <td>routine</td>\n",
       "    </tr>\n",
       "    <tr>\n",
       "      <th>1</th>\n",
       "      <td>10</td>\n",
       "      <td>94</td>\n",
       "      <td>20140729</td>\n",
       "      <td>routine</td>\n",
       "    </tr>\n",
       "    <tr>\n",
       "      <th>2</th>\n",
       "      <td>10</td>\n",
       "      <td>92</td>\n",
       "      <td>20140114</td>\n",
       "      <td>routine</td>\n",
       "    </tr>\n",
       "    <tr>\n",
       "      <th>3</th>\n",
       "      <td>19</td>\n",
       "      <td>94</td>\n",
       "      <td>20160513</td>\n",
       "      <td>routine</td>\n",
       "    </tr>\n",
       "    <tr>\n",
       "      <th>4</th>\n",
       "      <td>19</td>\n",
       "      <td>94</td>\n",
       "      <td>20141110</td>\n",
       "      <td>routine</td>\n",
       "    </tr>\n",
       "  </tbody>\n",
       "</table>\n",
       "</div>"
      ],
      "text/plain": [
       "   business_id  score      date     type\n",
       "0           10     82  20160503  routine\n",
       "1           10     94  20140729  routine\n",
       "2           10     92  20140114  routine\n",
       "3           19     94  20160513  routine\n",
       "4           19     94  20141110  routine"
      ]
     },
     "execution_count": 82,
     "metadata": {},
     "output_type": "execute_result"
    }
   ],
   "source": [
    "ins.head(5)"
   ]
  },
  {
   "cell_type": "code",
   "execution_count": 83,
   "metadata": {},
   "outputs": [
    {
     "data": {
      "text/html": [
       "<div>\n",
       "<style>\n",
       "    .dataframe thead tr:only-child th {\n",
       "        text-align: right;\n",
       "    }\n",
       "\n",
       "    .dataframe thead th {\n",
       "        text-align: left;\n",
       "    }\n",
       "\n",
       "    .dataframe tbody tr th {\n",
       "        vertical-align: top;\n",
       "    }\n",
       "</style>\n",
       "<table border=\"1\" class=\"dataframe\">\n",
       "  <thead>\n",
       "    <tr style=\"text-align: right;\">\n",
       "      <th></th>\n",
       "      <th>business_id</th>\n",
       "      <th>date</th>\n",
       "      <th>description</th>\n",
       "    </tr>\n",
       "  </thead>\n",
       "  <tbody>\n",
       "    <tr>\n",
       "      <th>0</th>\n",
       "      <td>10</td>\n",
       "      <td>20160503</td>\n",
       "      <td>High risk food holding temperature   [ date vi...</td>\n",
       "    </tr>\n",
       "    <tr>\n",
       "      <th>1</th>\n",
       "      <td>10</td>\n",
       "      <td>20160503</td>\n",
       "      <td>High risk food holding temperature   [ date vi...</td>\n",
       "    </tr>\n",
       "    <tr>\n",
       "      <th>2</th>\n",
       "      <td>10</td>\n",
       "      <td>20160503</td>\n",
       "      <td>High risk vermin infestation</td>\n",
       "    </tr>\n",
       "    <tr>\n",
       "      <th>3</th>\n",
       "      <td>10</td>\n",
       "      <td>20160503</td>\n",
       "      <td>Unapproved or unmaintained equipment or utensils</td>\n",
       "    </tr>\n",
       "    <tr>\n",
       "      <th>4</th>\n",
       "      <td>10</td>\n",
       "      <td>20160503</td>\n",
       "      <td>No thermometers or uncalibrated thermometers</td>\n",
       "    </tr>\n",
       "  </tbody>\n",
       "</table>\n",
       "</div>"
      ],
      "text/plain": [
       "   business_id      date                                        description\n",
       "0           10  20160503  High risk food holding temperature   [ date vi...\n",
       "1           10  20160503  High risk food holding temperature   [ date vi...\n",
       "2           10  20160503                       High risk vermin infestation\n",
       "3           10  20160503   Unapproved or unmaintained equipment or utensils\n",
       "4           10  20160503      No thermometers or uncalibrated thermometers "
      ]
     },
     "execution_count": 83,
     "metadata": {},
     "output_type": "execute_result"
    }
   ],
   "source": [
    "vio.head(5)"
   ]
  },
  {
   "cell_type": "markdown",
   "metadata": {},
   "source": [
    "### Question 1d\n",
    "\n",
    "In the following describe at least one potential problem with the above data. Consider issues with missing values and bad data.  "
   ]
  },
  {
   "cell_type": "code",
   "execution_count": 84,
   "metadata": {
    "tags": [
     "student",
     "written"
    ]
   },
   "outputs": [
    {
     "data": {
      "text/markdown": [
       "\n",
       "\n",
       "In vio, description includes a description but also date violation corrected in some cases. \n",
       "The column shouldn't contain two different categories of data sometimes and only one other times \n",
       "\n"
      ],
      "text/plain": [
       "<IPython.core.display.Markdown object>"
      ]
     },
     "metadata": {},
     "output_type": "display_data"
    }
   ],
   "source": [
    "q1d_answer = r\"\"\"\n",
    "\n",
    "In vio, description includes a description but also date violation corrected in some cases. \n",
    "The column shouldn't contain two different categories of data sometimes and only one other times \n",
    "\n",
    "\"\"\"\n",
    "\n",
    "display(Markdown(q1d_answer))"
   ]
  },
  {
   "cell_type": "code",
   "execution_count": 85,
   "metadata": {},
   "outputs": [
    {
     "name": "stdout",
     "output_type": "stream",
     "text": [
      "~~~~~~~~~~~~~~~~~~~~~~~~~~~~~~~~~~~~~~~~~~~~~~~~~~~~~~~~~~~~~~~~~~~~~\n",
      "Running tests\n",
      "\n",
      "---------------------------------------------------------------------\n",
      "Test summary\n",
      "    Passed: 1\n",
      "    Failed: 0\n",
      "[ooooooooook] 100.0% passed\n",
      "\n"
     ]
    },
    {
     "data": {
      "application/javascript": [
       "IPython.notebook.save_checkpoint();"
      ],
      "text/plain": [
       "<IPython.core.display.Javascript object>"
      ]
     },
     "metadata": {},
     "output_type": "display_data"
    },
    {
     "data": {
      "application/javascript": [
       "IPython.notebook.save_notebook();"
      ],
      "text/plain": [
       "<IPython.core.display.Javascript object>"
      ]
     },
     "metadata": {},
     "output_type": "display_data"
    },
    {
     "name": "stdout",
     "output_type": "stream",
     "text": [
      "Saving notebook... Saved 'hw2.ipynb'.\n",
      "Backup... 100% complete\n",
      "Backup successful for user: dcroce@berkeley.edu\n",
      "URL: https://okpy.org/cal/ds100/fa17/hw2/backups/QW8G3Y\n",
      "NOTE: this is only a backup. To submit your assignment, use:\n",
      "\tpython3 ok --submit\n",
      "\n"
     ]
    }
   ],
   "source": [
    "_ = ok.grade('q01')\n",
    "_ = ok.backup()"
   ]
  },
  {
   "cell_type": "markdown",
   "metadata": {},
   "source": [
    "We will explore each file in turn, including determining its granularity and primary keys and exploring many of the variables indivdually. Let's begin with the businesses file, which has been read into the data.frame `bus`."
   ]
  },
  {
   "cell_type": "markdown",
   "metadata": {},
   "source": [
    "## Examining the Business data\n",
    "\n",
    "From its name alone, we expect the `businesses.csv` file to contain information about the restaurants. Let's investigate the granularity of this dataset.\n",
    "\n",
    "**Important note: From now on, the local autograder tests will not be comprehensive. You can pass the OkPy tests in your notebook but still fail tests in the autograder.** Please be sure to check your results carefully."
   ]
  },
  {
   "cell_type": "markdown",
   "metadata": {},
   "source": [
    "### Question 2\n",
    "\n",
    "#### Question 2a\n",
    "\n",
    "Examining the entries in in the `businesses.csv` table `bus` is the `business_id` unique for each record?"
   ]
  },
  {
   "cell_type": "code",
   "execution_count": 86,
   "metadata": {
    "tags": [
     "student"
    ]
   },
   "outputs": [
    {
     "data": {
      "text/plain": [
       "True"
      ]
     },
     "execution_count": 86,
     "metadata": {},
     "output_type": "execute_result"
    }
   ],
   "source": [
    "len(pd.unique(bus[\"business_id\"])) == len(bus[\"business_id\"])  # use value_counts() or unique() to determine if the business_id field is unique"
   ]
  },
  {
   "cell_type": "code",
   "execution_count": 87,
   "metadata": {
    "collapsed": true,
    "tags": [
     "student"
    ]
   },
   "outputs": [],
   "source": [
    "is_business_id_unique = True # put your final answer True/False here"
   ]
  },
  {
   "cell_type": "code",
   "execution_count": 88,
   "metadata": {},
   "outputs": [
    {
     "name": "stdout",
     "output_type": "stream",
     "text": [
      "~~~~~~~~~~~~~~~~~~~~~~~~~~~~~~~~~~~~~~~~~~~~~~~~~~~~~~~~~~~~~~~~~~~~~\n",
      "Running tests\n",
      "\n",
      "---------------------------------------------------------------------\n",
      "Test summary\n",
      "    Passed: 1\n",
      "    Failed: 0\n",
      "[ooooooooook] 100.0% passed\n",
      "\n"
     ]
    },
    {
     "data": {
      "application/javascript": [
       "IPython.notebook.save_checkpoint();"
      ],
      "text/plain": [
       "<IPython.core.display.Javascript object>"
      ]
     },
     "metadata": {},
     "output_type": "display_data"
    },
    {
     "data": {
      "application/javascript": [
       "IPython.notebook.save_notebook();"
      ],
      "text/plain": [
       "<IPython.core.display.Javascript object>"
      ]
     },
     "metadata": {},
     "output_type": "display_data"
    },
    {
     "name": "stdout",
     "output_type": "stream",
     "text": [
      "Saving notebook... Saved 'hw2.ipynb'.\n",
      "Backup... 100% complete\n",
      "Backup successful for user: dcroce@berkeley.edu\n",
      "URL: https://okpy.org/cal/ds100/fa17/hw2/backups/VOVj81\n",
      "NOTE: this is only a backup. To submit your assignment, use:\n",
      "\tpython3 ok --submit\n",
      "\n"
     ]
    }
   ],
   "source": [
    "_ = ok.grade('q02a')\n",
    "_ = ok.backup()"
   ]
  },
  {
   "cell_type": "markdown",
   "metadata": {
    "tags": [
     "written"
    ]
   },
   "source": [
    "#### Question 2b\n",
    "\n",
    "With this information, you can address the question of granularity and so answer the questions below.\n",
    "\n",
    "1. What is the granularity of the businesses data frame? \n",
    "1. How many records are there?\n",
    "1. What does each record represent (e.g., a store, a chain, a transaction)?  \n",
    "1. What is the primary key?\n",
    "\n",
    "Please write your answer in the `q2b_answer` variable. You may create new cells to run code as long as you don't delete the cell below."
   ]
  },
  {
   "cell_type": "code",
   "execution_count": 89,
   "metadata": {
    "tags": [
     "student"
    ]
   },
   "outputs": [
    {
     "data": {
      "text/html": [
       "<div>\n",
       "<style>\n",
       "    .dataframe thead tr:only-child th {\n",
       "        text-align: right;\n",
       "    }\n",
       "\n",
       "    .dataframe thead th {\n",
       "        text-align: left;\n",
       "    }\n",
       "\n",
       "    .dataframe tbody tr th {\n",
       "        vertical-align: top;\n",
       "    }\n",
       "</style>\n",
       "<table border=\"1\" class=\"dataframe\">\n",
       "  <thead>\n",
       "    <tr style=\"text-align: right;\">\n",
       "      <th></th>\n",
       "      <th></th>\n",
       "      <th>address</th>\n",
       "      <th>city</th>\n",
       "      <th>state</th>\n",
       "      <th>postal_code</th>\n",
       "      <th>latitude</th>\n",
       "      <th>longitude</th>\n",
       "      <th>phone_number</th>\n",
       "    </tr>\n",
       "    <tr>\n",
       "      <th>name</th>\n",
       "      <th>business_id</th>\n",
       "      <th></th>\n",
       "      <th></th>\n",
       "      <th></th>\n",
       "      <th></th>\n",
       "      <th></th>\n",
       "      <th></th>\n",
       "      <th></th>\n",
       "    </tr>\n",
       "  </thead>\n",
       "  <tbody>\n",
       "    <tr>\n",
       "      <th>NORDSTROM CAFE BISTRO</th>\n",
       "      <th>1674</th>\n",
       "      <td>1</td>\n",
       "      <td>1</td>\n",
       "      <td>1</td>\n",
       "      <td>1</td>\n",
       "      <td>1</td>\n",
       "      <td>1</td>\n",
       "      <td>1</td>\n",
       "    </tr>\n",
       "    <tr>\n",
       "      <th>100% DESSERT CAFE</th>\n",
       "      <th>37633</th>\n",
       "      <td>1</td>\n",
       "      <td>1</td>\n",
       "      <td>1</td>\n",
       "      <td>1</td>\n",
       "      <td>1</td>\n",
       "      <td>1</td>\n",
       "      <td>1</td>\n",
       "    </tr>\n",
       "    <tr>\n",
       "      <th>12 TRIBES KOSHER FOODS</th>\n",
       "      <th>68597</th>\n",
       "      <td>1</td>\n",
       "      <td>1</td>\n",
       "      <td>1</td>\n",
       "      <td>1</td>\n",
       "      <td>1</td>\n",
       "      <td>1</td>\n",
       "      <td>1</td>\n",
       "    </tr>\n",
       "    <tr>\n",
       "      <th>1300 ON FILLMORE</th>\n",
       "      <th>34647</th>\n",
       "      <td>1</td>\n",
       "      <td>1</td>\n",
       "      <td>1</td>\n",
       "      <td>1</td>\n",
       "      <td>1</td>\n",
       "      <td>1</td>\n",
       "      <td>1</td>\n",
       "    </tr>\n",
       "    <tr>\n",
       "      <th>1428 HAIGHT</th>\n",
       "      <th>79117</th>\n",
       "      <td>1</td>\n",
       "      <td>1</td>\n",
       "      <td>1</td>\n",
       "      <td>1</td>\n",
       "      <td>0</td>\n",
       "      <td>0</td>\n",
       "      <td>1</td>\n",
       "    </tr>\n",
       "    <tr>\n",
       "      <th>1601 BAR &amp; KITCHEN</th>\n",
       "      <th>69691</th>\n",
       "      <td>1</td>\n",
       "      <td>1</td>\n",
       "      <td>1</td>\n",
       "      <td>1</td>\n",
       "      <td>0</td>\n",
       "      <td>0</td>\n",
       "      <td>1</td>\n",
       "    </tr>\n",
       "    <tr>\n",
       "      <th>1760</th>\n",
       "      <th>75044</th>\n",
       "      <td>1</td>\n",
       "      <td>1</td>\n",
       "      <td>1</td>\n",
       "      <td>0</td>\n",
       "      <td>0</td>\n",
       "      <td>0</td>\n",
       "      <td>1</td>\n",
       "    </tr>\n",
       "    <tr>\n",
       "      <th>17TH &amp; NOE MARKET</th>\n",
       "      <th>4474</th>\n",
       "      <td>1</td>\n",
       "      <td>1</td>\n",
       "      <td>1</td>\n",
       "      <td>1</td>\n",
       "      <td>1</td>\n",
       "      <td>1</td>\n",
       "      <td>1</td>\n",
       "    </tr>\n",
       "    <tr>\n",
       "      <th>18 REASONS</th>\n",
       "      <th>64717</th>\n",
       "      <td>1</td>\n",
       "      <td>1</td>\n",
       "      <td>1</td>\n",
       "      <td>1</td>\n",
       "      <td>1</td>\n",
       "      <td>1</td>\n",
       "      <td>1</td>\n",
       "    </tr>\n",
       "    <tr>\n",
       "      <th>18TH STREET COMMISSARY</th>\n",
       "      <th>27350</th>\n",
       "      <td>1</td>\n",
       "      <td>1</td>\n",
       "      <td>1</td>\n",
       "      <td>1</td>\n",
       "      <td>1</td>\n",
       "      <td>1</td>\n",
       "      <td>0</td>\n",
       "    </tr>\n",
       "    <tr>\n",
       "      <th>1906 MISSION</th>\n",
       "      <th>80241</th>\n",
       "      <td>1</td>\n",
       "      <td>1</td>\n",
       "      <td>1</td>\n",
       "      <td>1</td>\n",
       "      <td>0</td>\n",
       "      <td>0</td>\n",
       "      <td>1</td>\n",
       "    </tr>\n",
       "    <tr>\n",
       "      <th>19TH AVE SHELL</th>\n",
       "      <th>62768</th>\n",
       "      <td>1</td>\n",
       "      <td>1</td>\n",
       "      <td>1</td>\n",
       "      <td>1</td>\n",
       "      <td>1</td>\n",
       "      <td>1</td>\n",
       "      <td>1</td>\n",
       "    </tr>\n",
       "    <tr>\n",
       "      <th>20 SPOT MISSION, LLC</th>\n",
       "      <th>70856</th>\n",
       "      <td>1</td>\n",
       "      <td>1</td>\n",
       "      <td>1</td>\n",
       "      <td>1</td>\n",
       "      <td>0</td>\n",
       "      <td>0</td>\n",
       "      <td>1</td>\n",
       "    </tr>\n",
       "    <tr>\n",
       "      <th>2001 THAI STICK</th>\n",
       "      <th>3910</th>\n",
       "      <td>1</td>\n",
       "      <td>1</td>\n",
       "      <td>1</td>\n",
       "      <td>1</td>\n",
       "      <td>1</td>\n",
       "      <td>1</td>\n",
       "      <td>1</td>\n",
       "    </tr>\n",
       "    <tr>\n",
       "      <th>20TH CENTURY CAFE</th>\n",
       "      <th>73902</th>\n",
       "      <td>1</td>\n",
       "      <td>1</td>\n",
       "      <td>1</td>\n",
       "      <td>1</td>\n",
       "      <td>0</td>\n",
       "      <td>0</td>\n",
       "      <td>0</td>\n",
       "    </tr>\n",
       "    <tr>\n",
       "      <th>21 TASTE HOUSE</th>\n",
       "      <th>71286</th>\n",
       "      <td>1</td>\n",
       "      <td>1</td>\n",
       "      <td>1</td>\n",
       "      <td>1</td>\n",
       "      <td>1</td>\n",
       "      <td>1</td>\n",
       "      <td>1</td>\n",
       "    </tr>\n",
       "    <tr>\n",
       "      <th>21ST AMENDMENT BREWERY CAFE</th>\n",
       "      <th>3397</th>\n",
       "      <td>1</td>\n",
       "      <td>1</td>\n",
       "      <td>1</td>\n",
       "      <td>1</td>\n",
       "      <td>1</td>\n",
       "      <td>1</td>\n",
       "      <td>1</td>\n",
       "    </tr>\n",
       "    <tr>\n",
       "      <th>2227 IRVING SEAFOOD MARKET INC</th>\n",
       "      <th>83808</th>\n",
       "      <td>1</td>\n",
       "      <td>1</td>\n",
       "      <td>1</td>\n",
       "      <td>1</td>\n",
       "      <td>0</td>\n",
       "      <td>0</td>\n",
       "      <td>1</td>\n",
       "    </tr>\n",
       "    <tr>\n",
       "      <th>23RD &amp; GUERRERO MARKET &amp; DELI</th>\n",
       "      <th>39980</th>\n",
       "      <td>1</td>\n",
       "      <td>1</td>\n",
       "      <td>1</td>\n",
       "      <td>1</td>\n",
       "      <td>1</td>\n",
       "      <td>1</td>\n",
       "      <td>1</td>\n",
       "    </tr>\n",
       "    <tr>\n",
       "      <th>24 HOUR FITNESS, #273</th>\n",
       "      <th>82232</th>\n",
       "      <td>1</td>\n",
       "      <td>1</td>\n",
       "      <td>1</td>\n",
       "      <td>1</td>\n",
       "      <td>0</td>\n",
       "      <td>0</td>\n",
       "      <td>1</td>\n",
       "    </tr>\n",
       "    <tr>\n",
       "      <th>24 HR CONVENIENCE MKT</th>\n",
       "      <th>7651</th>\n",
       "      <td>1</td>\n",
       "      <td>1</td>\n",
       "      <td>1</td>\n",
       "      <td>1</td>\n",
       "      <td>1</td>\n",
       "      <td>1</td>\n",
       "      <td>1</td>\n",
       "    </tr>\n",
       "    <tr>\n",
       "      <th>24TH STREET CHEESE COMPANY</th>\n",
       "      <th>7457</th>\n",
       "      <td>1</td>\n",
       "      <td>1</td>\n",
       "      <td>1</td>\n",
       "      <td>1</td>\n",
       "      <td>1</td>\n",
       "      <td>1</td>\n",
       "      <td>1</td>\n",
       "    </tr>\n",
       "    <tr>\n",
       "      <th>260 GOLDEN GATE FAMILY RESIDENCE</th>\n",
       "      <th>5185</th>\n",
       "      <td>1</td>\n",
       "      <td>1</td>\n",
       "      <td>1</td>\n",
       "      <td>1</td>\n",
       "      <td>1</td>\n",
       "      <td>1</td>\n",
       "      <td>1</td>\n",
       "    </tr>\n",
       "    <tr>\n",
       "      <th>2G JAPANESE BRASSERIE</th>\n",
       "      <th>64975</th>\n",
       "      <td>1</td>\n",
       "      <td>1</td>\n",
       "      <td>1</td>\n",
       "      <td>1</td>\n",
       "      <td>1</td>\n",
       "      <td>1</td>\n",
       "      <td>1</td>\n",
       "    </tr>\n",
       "    <tr>\n",
       "      <th>3 BOTTLED FISH</th>\n",
       "      <th>69014</th>\n",
       "      <td>1</td>\n",
       "      <td>1</td>\n",
       "      <td>1</td>\n",
       "      <td>1</td>\n",
       "      <td>0</td>\n",
       "      <td>0</td>\n",
       "      <td>0</td>\n",
       "    </tr>\n",
       "    <tr>\n",
       "      <th>3 BROTHERS KITCHEN</th>\n",
       "      <th>82883</th>\n",
       "      <td>1</td>\n",
       "      <td>1</td>\n",
       "      <td>1</td>\n",
       "      <td>0</td>\n",
       "      <td>0</td>\n",
       "      <td>0</td>\n",
       "      <td>1</td>\n",
       "    </tr>\n",
       "    <tr>\n",
       "      <th>333</th>\n",
       "      <th>70580</th>\n",
       "      <td>1</td>\n",
       "      <td>1</td>\n",
       "      <td>1</td>\n",
       "      <td>0</td>\n",
       "      <td>0</td>\n",
       "      <td>0</td>\n",
       "      <td>0</td>\n",
       "    </tr>\n",
       "    <tr>\n",
       "      <th>360 GOURMET BURRITO</th>\n",
       "      <th>60644</th>\n",
       "      <td>1</td>\n",
       "      <td>1</td>\n",
       "      <td>1</td>\n",
       "      <td>1</td>\n",
       "      <td>1</td>\n",
       "      <td>1</td>\n",
       "      <td>1</td>\n",
       "    </tr>\n",
       "    <tr>\n",
       "      <th>398 BRASSERIE</th>\n",
       "      <th>79946</th>\n",
       "      <td>1</td>\n",
       "      <td>1</td>\n",
       "      <td>1</td>\n",
       "      <td>1</td>\n",
       "      <td>0</td>\n",
       "      <td>0</td>\n",
       "      <td>1</td>\n",
       "    </tr>\n",
       "    <tr>\n",
       "      <th>3GEEKS</th>\n",
       "      <th>86490</th>\n",
       "      <td>1</td>\n",
       "      <td>1</td>\n",
       "      <td>1</td>\n",
       "      <td>0</td>\n",
       "      <td>0</td>\n",
       "      <td>0</td>\n",
       "      <td>1</td>\n",
       "    </tr>\n",
       "    <tr>\n",
       "      <th>...</th>\n",
       "      <th>...</th>\n",
       "      <td>...</td>\n",
       "      <td>...</td>\n",
       "      <td>...</td>\n",
       "      <td>...</td>\n",
       "      <td>...</td>\n",
       "      <td>...</td>\n",
       "      <td>...</td>\n",
       "    </tr>\n",
       "    <tr>\n",
       "      <th>ZANZE'S CHEESECAKE</th>\n",
       "      <th>4630</th>\n",
       "      <td>1</td>\n",
       "      <td>1</td>\n",
       "      <td>1</td>\n",
       "      <td>1</td>\n",
       "      <td>1</td>\n",
       "      <td>1</td>\n",
       "      <td>1</td>\n",
       "    </tr>\n",
       "    <tr>\n",
       "      <th>ZAOH RESTAURANT</th>\n",
       "      <th>1216</th>\n",
       "      <td>1</td>\n",
       "      <td>1</td>\n",
       "      <td>1</td>\n",
       "      <td>1</td>\n",
       "      <td>1</td>\n",
       "      <td>1</td>\n",
       "      <td>1</td>\n",
       "    </tr>\n",
       "    <tr>\n",
       "      <th>ZAPATA MEXICAN GRILL</th>\n",
       "      <th>39773</th>\n",
       "      <td>1</td>\n",
       "      <td>1</td>\n",
       "      <td>1</td>\n",
       "      <td>1</td>\n",
       "      <td>1</td>\n",
       "      <td>1</td>\n",
       "      <td>1</td>\n",
       "    </tr>\n",
       "    <tr>\n",
       "      <th>ZARE AT FLY TRAP</th>\n",
       "      <th>38479</th>\n",
       "      <td>1</td>\n",
       "      <td>1</td>\n",
       "      <td>1</td>\n",
       "      <td>1</td>\n",
       "      <td>1</td>\n",
       "      <td>1</td>\n",
       "      <td>1</td>\n",
       "    </tr>\n",
       "    <tr>\n",
       "      <th>ZARZUELA</th>\n",
       "      <th>2054</th>\n",
       "      <td>1</td>\n",
       "      <td>1</td>\n",
       "      <td>1</td>\n",
       "      <td>1</td>\n",
       "      <td>1</td>\n",
       "      <td>1</td>\n",
       "      <td>1</td>\n",
       "    </tr>\n",
       "    <tr>\n",
       "      <th>ZAYTOON</th>\n",
       "      <th>37731</th>\n",
       "      <td>1</td>\n",
       "      <td>1</td>\n",
       "      <td>1</td>\n",
       "      <td>1</td>\n",
       "      <td>1</td>\n",
       "      <td>1</td>\n",
       "      <td>1</td>\n",
       "    </tr>\n",
       "    <tr>\n",
       "      <th>ZAZANG RESTAURANT</th>\n",
       "      <th>75452</th>\n",
       "      <td>1</td>\n",
       "      <td>1</td>\n",
       "      <td>1</td>\n",
       "      <td>1</td>\n",
       "      <td>0</td>\n",
       "      <td>0</td>\n",
       "      <td>1</td>\n",
       "    </tr>\n",
       "    <tr>\n",
       "      <th>ZAZIE</th>\n",
       "      <th>1595</th>\n",
       "      <td>1</td>\n",
       "      <td>1</td>\n",
       "      <td>1</td>\n",
       "      <td>1</td>\n",
       "      <td>1</td>\n",
       "      <td>1</td>\n",
       "      <td>1</td>\n",
       "    </tr>\n",
       "    <tr>\n",
       "      <th>ZCREPES</th>\n",
       "      <th>67160</th>\n",
       "      <td>1</td>\n",
       "      <td>1</td>\n",
       "      <td>1</td>\n",
       "      <td>1</td>\n",
       "      <td>1</td>\n",
       "      <td>1</td>\n",
       "      <td>1</td>\n",
       "    </tr>\n",
       "    <tr>\n",
       "      <th>ZEE COOKS LLC</th>\n",
       "      <th>75380</th>\n",
       "      <td>1</td>\n",
       "      <td>1</td>\n",
       "      <td>1</td>\n",
       "      <td>1</td>\n",
       "      <td>0</td>\n",
       "      <td>0</td>\n",
       "      <td>0</td>\n",
       "    </tr>\n",
       "    <tr>\n",
       "      <th>ZEITGEIST</th>\n",
       "      <th>68799</th>\n",
       "      <td>1</td>\n",
       "      <td>1</td>\n",
       "      <td>1</td>\n",
       "      <td>1</td>\n",
       "      <td>0</td>\n",
       "      <td>0</td>\n",
       "      <td>1</td>\n",
       "    </tr>\n",
       "    <tr>\n",
       "      <th>ZEKE'S DIAMOND BAR</th>\n",
       "      <th>1490</th>\n",
       "      <td>1</td>\n",
       "      <td>1</td>\n",
       "      <td>1</td>\n",
       "      <td>1</td>\n",
       "      <td>1</td>\n",
       "      <td>1</td>\n",
       "      <td>1</td>\n",
       "    </tr>\n",
       "    <tr>\n",
       "      <th>ZELINSKY</th>\n",
       "      <th>7464</th>\n",
       "      <td>1</td>\n",
       "      <td>1</td>\n",
       "      <td>1</td>\n",
       "      <td>1</td>\n",
       "      <td>1</td>\n",
       "      <td>1</td>\n",
       "      <td>1</td>\n",
       "    </tr>\n",
       "    <tr>\n",
       "      <th>ZEN YAI THAI RESTAURANT</th>\n",
       "      <th>18298</th>\n",
       "      <td>1</td>\n",
       "      <td>1</td>\n",
       "      <td>1</td>\n",
       "      <td>1</td>\n",
       "      <td>1</td>\n",
       "      <td>1</td>\n",
       "      <td>1</td>\n",
       "    </tr>\n",
       "    <tr>\n",
       "      <th>ZENBELLY</th>\n",
       "      <th>79434</th>\n",
       "      <td>1</td>\n",
       "      <td>1</td>\n",
       "      <td>1</td>\n",
       "      <td>1</td>\n",
       "      <td>0</td>\n",
       "      <td>0</td>\n",
       "      <td>1</td>\n",
       "    </tr>\n",
       "    <tr>\n",
       "      <th>ZERO ZERO</th>\n",
       "      <th>63597</th>\n",
       "      <td>1</td>\n",
       "      <td>1</td>\n",
       "      <td>1</td>\n",
       "      <td>1</td>\n",
       "      <td>1</td>\n",
       "      <td>1</td>\n",
       "      <td>1</td>\n",
       "    </tr>\n",
       "    <tr>\n",
       "      <th>ZESTY INC.</th>\n",
       "      <th>86696</th>\n",
       "      <td>1</td>\n",
       "      <td>1</td>\n",
       "      <td>1</td>\n",
       "      <td>1</td>\n",
       "      <td>0</td>\n",
       "      <td>0</td>\n",
       "      <td>1</td>\n",
       "    </tr>\n",
       "    <tr>\n",
       "      <th>ZESTY RESTAURANT</th>\n",
       "      <th>63208</th>\n",
       "      <td>1</td>\n",
       "      <td>1</td>\n",
       "      <td>1</td>\n",
       "      <td>1</td>\n",
       "      <td>1</td>\n",
       "      <td>1</td>\n",
       "      <td>1</td>\n",
       "    </tr>\n",
       "    <tr>\n",
       "      <th>ZHONG SHAN RESTAURANT</th>\n",
       "      <th>76035</th>\n",
       "      <td>1</td>\n",
       "      <td>1</td>\n",
       "      <td>1</td>\n",
       "      <td>1</td>\n",
       "      <td>0</td>\n",
       "      <td>0</td>\n",
       "      <td>1</td>\n",
       "    </tr>\n",
       "    <tr>\n",
       "      <th>ZHU FAMILY</th>\n",
       "      <th>83796</th>\n",
       "      <td>1</td>\n",
       "      <td>1</td>\n",
       "      <td>1</td>\n",
       "      <td>1</td>\n",
       "      <td>0</td>\n",
       "      <td>0</td>\n",
       "      <td>1</td>\n",
       "    </tr>\n",
       "    <tr>\n",
       "      <th>ZIGGY'S BURGER &amp; GRILL</th>\n",
       "      <th>65925</th>\n",
       "      <td>1</td>\n",
       "      <td>1</td>\n",
       "      <td>1</td>\n",
       "      <td>1</td>\n",
       "      <td>1</td>\n",
       "      <td>1</td>\n",
       "      <td>1</td>\n",
       "    </tr>\n",
       "    <tr>\n",
       "      <th>ZINGARI</th>\n",
       "      <th>3707</th>\n",
       "      <td>1</td>\n",
       "      <td>1</td>\n",
       "      <td>1</td>\n",
       "      <td>1</td>\n",
       "      <td>1</td>\n",
       "      <td>1</td>\n",
       "      <td>1</td>\n",
       "    </tr>\n",
       "    <tr>\n",
       "      <th>ZOE'S</th>\n",
       "      <th>69884</th>\n",
       "      <td>1</td>\n",
       "      <td>1</td>\n",
       "      <td>1</td>\n",
       "      <td>1</td>\n",
       "      <td>0</td>\n",
       "      <td>0</td>\n",
       "      <td>0</td>\n",
       "    </tr>\n",
       "    <tr>\n",
       "      <th>ZONA ROSA</th>\n",
       "      <th>1159</th>\n",
       "      <td>1</td>\n",
       "      <td>1</td>\n",
       "      <td>1</td>\n",
       "      <td>1</td>\n",
       "      <td>1</td>\n",
       "      <td>1</td>\n",
       "      <td>1</td>\n",
       "    </tr>\n",
       "    <tr>\n",
       "      <th>ZOOMAAK</th>\n",
       "      <th>67806</th>\n",
       "      <td>1</td>\n",
       "      <td>1</td>\n",
       "      <td>1</td>\n",
       "      <td>1</td>\n",
       "      <td>1</td>\n",
       "      <td>1</td>\n",
       "      <td>1</td>\n",
       "    </tr>\n",
       "    <tr>\n",
       "      <th>ZPIZZA</th>\n",
       "      <th>65260</th>\n",
       "      <td>1</td>\n",
       "      <td>1</td>\n",
       "      <td>1</td>\n",
       "      <td>1</td>\n",
       "      <td>1</td>\n",
       "      <td>1</td>\n",
       "      <td>1</td>\n",
       "    </tr>\n",
       "    <tr>\n",
       "      <th>ZUNI CAFE</th>\n",
       "      <th>3645</th>\n",
       "      <td>1</td>\n",
       "      <td>1</td>\n",
       "      <td>1</td>\n",
       "      <td>1</td>\n",
       "      <td>1</td>\n",
       "      <td>1</td>\n",
       "      <td>1</td>\n",
       "    </tr>\n",
       "    <tr>\n",
       "      <th>ZUSHI-PUZZLE</th>\n",
       "      <th>2063</th>\n",
       "      <td>1</td>\n",
       "      <td>1</td>\n",
       "      <td>1</td>\n",
       "      <td>1</td>\n",
       "      <td>1</td>\n",
       "      <td>1</td>\n",
       "      <td>1</td>\n",
       "    </tr>\n",
       "    <tr>\n",
       "      <th>ZYNGA</th>\n",
       "      <th>66963</th>\n",
       "      <td>1</td>\n",
       "      <td>1</td>\n",
       "      <td>1</td>\n",
       "      <td>1</td>\n",
       "      <td>1</td>\n",
       "      <td>1</td>\n",
       "      <td>1</td>\n",
       "    </tr>\n",
       "    <tr>\n",
       "      <th>ZZAN</th>\n",
       "      <th>82571</th>\n",
       "      <td>1</td>\n",
       "      <td>1</td>\n",
       "      <td>1</td>\n",
       "      <td>1</td>\n",
       "      <td>0</td>\n",
       "      <td>0</td>\n",
       "      <td>1</td>\n",
       "    </tr>\n",
       "  </tbody>\n",
       "</table>\n",
       "<p>6315 rows × 7 columns</p>\n",
       "</div>"
      ],
      "text/plain": [
       "                                              address  city  state  \\\n",
       "name                             business_id                         \n",
       " NORDSTROM CAFE BISTRO           1674               1     1      1   \n",
       "100% DESSERT CAFE                37633              1     1      1   \n",
       "12 TRIBES KOSHER FOODS           68597              1     1      1   \n",
       "1300 ON FILLMORE                 34647              1     1      1   \n",
       "1428 HAIGHT                      79117              1     1      1   \n",
       "1601 BAR & KITCHEN               69691              1     1      1   \n",
       "1760                             75044              1     1      1   \n",
       "17TH & NOE MARKET                4474               1     1      1   \n",
       "18 REASONS                       64717              1     1      1   \n",
       "18TH STREET COMMISSARY           27350              1     1      1   \n",
       "1906 MISSION                     80241              1     1      1   \n",
       "19TH AVE SHELL                   62768              1     1      1   \n",
       "20 SPOT MISSION, LLC             70856              1     1      1   \n",
       "2001 THAI STICK                  3910               1     1      1   \n",
       "20TH CENTURY CAFE                73902              1     1      1   \n",
       "21 TASTE HOUSE                   71286              1     1      1   \n",
       "21ST AMENDMENT BREWERY CAFE      3397               1     1      1   \n",
       "2227 IRVING SEAFOOD MARKET INC   83808              1     1      1   \n",
       "23RD & GUERRERO MARKET & DELI    39980              1     1      1   \n",
       "24 HOUR FITNESS, #273            82232              1     1      1   \n",
       "24 HR CONVENIENCE MKT            7651               1     1      1   \n",
       "24TH STREET CHEESE COMPANY       7457               1     1      1   \n",
       "260 GOLDEN GATE FAMILY RESIDENCE 5185               1     1      1   \n",
       "2G JAPANESE BRASSERIE            64975              1     1      1   \n",
       "3 BOTTLED FISH                   69014              1     1      1   \n",
       "3 BROTHERS KITCHEN               82883              1     1      1   \n",
       "333                              70580              1     1      1   \n",
       "360 GOURMET BURRITO              60644              1     1      1   \n",
       "398 BRASSERIE                    79946              1     1      1   \n",
       "3GEEKS                           86490              1     1      1   \n",
       "...                                               ...   ...    ...   \n",
       "ZANZE'S CHEESECAKE               4630               1     1      1   \n",
       "ZAOH RESTAURANT                  1216               1     1      1   \n",
       "ZAPATA MEXICAN GRILL             39773              1     1      1   \n",
       "ZARE AT FLY TRAP                 38479              1     1      1   \n",
       "ZARZUELA                         2054               1     1      1   \n",
       "ZAYTOON                          37731              1     1      1   \n",
       "ZAZANG RESTAURANT                75452              1     1      1   \n",
       "ZAZIE                            1595               1     1      1   \n",
       "ZCREPES                          67160              1     1      1   \n",
       "ZEE COOKS LLC                    75380              1     1      1   \n",
       "ZEITGEIST                        68799              1     1      1   \n",
       "ZEKE'S DIAMOND BAR               1490               1     1      1   \n",
       "ZELINSKY                         7464               1     1      1   \n",
       "ZEN YAI THAI RESTAURANT          18298              1     1      1   \n",
       "ZENBELLY                         79434              1     1      1   \n",
       "ZERO ZERO                        63597              1     1      1   \n",
       "ZESTY INC.                       86696              1     1      1   \n",
       "ZESTY RESTAURANT                 63208              1     1      1   \n",
       "ZHONG SHAN RESTAURANT            76035              1     1      1   \n",
       "ZHU FAMILY                       83796              1     1      1   \n",
       "ZIGGY'S BURGER & GRILL           65925              1     1      1   \n",
       "ZINGARI                          3707               1     1      1   \n",
       "ZOE'S                            69884              1     1      1   \n",
       "ZONA ROSA                        1159               1     1      1   \n",
       "ZOOMAAK                          67806              1     1      1   \n",
       "ZPIZZA                           65260              1     1      1   \n",
       "ZUNI CAFE                        3645               1     1      1   \n",
       "ZUSHI-PUZZLE                     2063               1     1      1   \n",
       "ZYNGA                            66963              1     1      1   \n",
       "ZZAN                             82571              1     1      1   \n",
       "\n",
       "                                              postal_code  latitude  \\\n",
       "name                             business_id                          \n",
       " NORDSTROM CAFE BISTRO           1674                   1         1   \n",
       "100% DESSERT CAFE                37633                  1         1   \n",
       "12 TRIBES KOSHER FOODS           68597                  1         1   \n",
       "1300 ON FILLMORE                 34647                  1         1   \n",
       "1428 HAIGHT                      79117                  1         0   \n",
       "1601 BAR & KITCHEN               69691                  1         0   \n",
       "1760                             75044                  0         0   \n",
       "17TH & NOE MARKET                4474                   1         1   \n",
       "18 REASONS                       64717                  1         1   \n",
       "18TH STREET COMMISSARY           27350                  1         1   \n",
       "1906 MISSION                     80241                  1         0   \n",
       "19TH AVE SHELL                   62768                  1         1   \n",
       "20 SPOT MISSION, LLC             70856                  1         0   \n",
       "2001 THAI STICK                  3910                   1         1   \n",
       "20TH CENTURY CAFE                73902                  1         0   \n",
       "21 TASTE HOUSE                   71286                  1         1   \n",
       "21ST AMENDMENT BREWERY CAFE      3397                   1         1   \n",
       "2227 IRVING SEAFOOD MARKET INC   83808                  1         0   \n",
       "23RD & GUERRERO MARKET & DELI    39980                  1         1   \n",
       "24 HOUR FITNESS, #273            82232                  1         0   \n",
       "24 HR CONVENIENCE MKT            7651                   1         1   \n",
       "24TH STREET CHEESE COMPANY       7457                   1         1   \n",
       "260 GOLDEN GATE FAMILY RESIDENCE 5185                   1         1   \n",
       "2G JAPANESE BRASSERIE            64975                  1         1   \n",
       "3 BOTTLED FISH                   69014                  1         0   \n",
       "3 BROTHERS KITCHEN               82883                  0         0   \n",
       "333                              70580                  0         0   \n",
       "360 GOURMET BURRITO              60644                  1         1   \n",
       "398 BRASSERIE                    79946                  1         0   \n",
       "3GEEKS                           86490                  0         0   \n",
       "...                                                   ...       ...   \n",
       "ZANZE'S CHEESECAKE               4630                   1         1   \n",
       "ZAOH RESTAURANT                  1216                   1         1   \n",
       "ZAPATA MEXICAN GRILL             39773                  1         1   \n",
       "ZARE AT FLY TRAP                 38479                  1         1   \n",
       "ZARZUELA                         2054                   1         1   \n",
       "ZAYTOON                          37731                  1         1   \n",
       "ZAZANG RESTAURANT                75452                  1         0   \n",
       "ZAZIE                            1595                   1         1   \n",
       "ZCREPES                          67160                  1         1   \n",
       "ZEE COOKS LLC                    75380                  1         0   \n",
       "ZEITGEIST                        68799                  1         0   \n",
       "ZEKE'S DIAMOND BAR               1490                   1         1   \n",
       "ZELINSKY                         7464                   1         1   \n",
       "ZEN YAI THAI RESTAURANT          18298                  1         1   \n",
       "ZENBELLY                         79434                  1         0   \n",
       "ZERO ZERO                        63597                  1         1   \n",
       "ZESTY INC.                       86696                  1         0   \n",
       "ZESTY RESTAURANT                 63208                  1         1   \n",
       "ZHONG SHAN RESTAURANT            76035                  1         0   \n",
       "ZHU FAMILY                       83796                  1         0   \n",
       "ZIGGY'S BURGER & GRILL           65925                  1         1   \n",
       "ZINGARI                          3707                   1         1   \n",
       "ZOE'S                            69884                  1         0   \n",
       "ZONA ROSA                        1159                   1         1   \n",
       "ZOOMAAK                          67806                  1         1   \n",
       "ZPIZZA                           65260                  1         1   \n",
       "ZUNI CAFE                        3645                   1         1   \n",
       "ZUSHI-PUZZLE                     2063                   1         1   \n",
       "ZYNGA                            66963                  1         1   \n",
       "ZZAN                             82571                  1         0   \n",
       "\n",
       "                                              longitude  phone_number  \n",
       "name                             business_id                           \n",
       " NORDSTROM CAFE BISTRO           1674                 1             1  \n",
       "100% DESSERT CAFE                37633                1             1  \n",
       "12 TRIBES KOSHER FOODS           68597                1             1  \n",
       "1300 ON FILLMORE                 34647                1             1  \n",
       "1428 HAIGHT                      79117                0             1  \n",
       "1601 BAR & KITCHEN               69691                0             1  \n",
       "1760                             75044                0             1  \n",
       "17TH & NOE MARKET                4474                 1             1  \n",
       "18 REASONS                       64717                1             1  \n",
       "18TH STREET COMMISSARY           27350                1             0  \n",
       "1906 MISSION                     80241                0             1  \n",
       "19TH AVE SHELL                   62768                1             1  \n",
       "20 SPOT MISSION, LLC             70856                0             1  \n",
       "2001 THAI STICK                  3910                 1             1  \n",
       "20TH CENTURY CAFE                73902                0             0  \n",
       "21 TASTE HOUSE                   71286                1             1  \n",
       "21ST AMENDMENT BREWERY CAFE      3397                 1             1  \n",
       "2227 IRVING SEAFOOD MARKET INC   83808                0             1  \n",
       "23RD & GUERRERO MARKET & DELI    39980                1             1  \n",
       "24 HOUR FITNESS, #273            82232                0             1  \n",
       "24 HR CONVENIENCE MKT            7651                 1             1  \n",
       "24TH STREET CHEESE COMPANY       7457                 1             1  \n",
       "260 GOLDEN GATE FAMILY RESIDENCE 5185                 1             1  \n",
       "2G JAPANESE BRASSERIE            64975                1             1  \n",
       "3 BOTTLED FISH                   69014                0             0  \n",
       "3 BROTHERS KITCHEN               82883                0             1  \n",
       "333                              70580                0             0  \n",
       "360 GOURMET BURRITO              60644                1             1  \n",
       "398 BRASSERIE                    79946                0             1  \n",
       "3GEEKS                           86490                0             1  \n",
       "...                                                 ...           ...  \n",
       "ZANZE'S CHEESECAKE               4630                 1             1  \n",
       "ZAOH RESTAURANT                  1216                 1             1  \n",
       "ZAPATA MEXICAN GRILL             39773                1             1  \n",
       "ZARE AT FLY TRAP                 38479                1             1  \n",
       "ZARZUELA                         2054                 1             1  \n",
       "ZAYTOON                          37731                1             1  \n",
       "ZAZANG RESTAURANT                75452                0             1  \n",
       "ZAZIE                            1595                 1             1  \n",
       "ZCREPES                          67160                1             1  \n",
       "ZEE COOKS LLC                    75380                0             0  \n",
       "ZEITGEIST                        68799                0             1  \n",
       "ZEKE'S DIAMOND BAR               1490                 1             1  \n",
       "ZELINSKY                         7464                 1             1  \n",
       "ZEN YAI THAI RESTAURANT          18298                1             1  \n",
       "ZENBELLY                         79434                0             1  \n",
       "ZERO ZERO                        63597                1             1  \n",
       "ZESTY INC.                       86696                0             1  \n",
       "ZESTY RESTAURANT                 63208                1             1  \n",
       "ZHONG SHAN RESTAURANT            76035                0             1  \n",
       "ZHU FAMILY                       83796                0             1  \n",
       "ZIGGY'S BURGER & GRILL           65925                1             1  \n",
       "ZINGARI                          3707                 1             1  \n",
       "ZOE'S                            69884                0             0  \n",
       "ZONA ROSA                        1159                 1             1  \n",
       "ZOOMAAK                          67806                1             1  \n",
       "ZPIZZA                           65260                1             1  \n",
       "ZUNI CAFE                        3645                 1             1  \n",
       "ZUSHI-PUZZLE                     2063                 1             1  \n",
       "ZYNGA                            66963                1             1  \n",
       "ZZAN                             82571                0             1  \n",
       "\n",
       "[6315 rows x 7 columns]"
      ]
     },
     "execution_count": 89,
     "metadata": {},
     "output_type": "execute_result"
    }
   ],
   "source": [
    "# use this cell for scratch work\n",
    "# consider using groupby or value_counts() on the 'name' or 'business_id'\n",
    "bus.groupby([\"name\",\"business_id\"]).count()"
   ]
  },
  {
   "cell_type": "code",
   "execution_count": 90,
   "metadata": {
    "tags": [
     "student",
     "written"
    ]
   },
   "outputs": [
    {
     "data": {
      "text/markdown": [
       "\n",
       "\n",
       "1. Each row represents a unique location of a business\n",
       "2. 6315\n",
       "3. Each record represents a store location\n",
       "4. Business id since it is unique for each row\n",
       "\n"
      ],
      "text/plain": [
       "<IPython.core.display.Markdown object>"
      ]
     },
     "metadata": {},
     "output_type": "display_data"
    }
   ],
   "source": [
    "q2b_answer = r\"\"\"\n",
    "\n",
    "1. Each row represents a unique location of a business\n",
    "2. 6315\n",
    "3. Each record represents a store location\n",
    "4. Business id since it is unique for each row\n",
    "\n",
    "\"\"\"\n",
    "\n",
    "display(Markdown(q2b_answer))"
   ]
  },
  {
   "cell_type": "markdown",
   "metadata": {
    "tags": [
     "written"
    ]
   },
   "source": [
    "## Zip code\n",
    "\n",
    "Next, let's  explore some of the variables in the business table. We begin by examining the postal code.\n",
    "\n",
    "### Question 3\n",
    "\n",
    "#### Question 3a\n",
    "\n",
    "\n",
    "What kind of values are in the variable postal code in the `bus` data frame?  \n",
    "1. Is zip code quantitative or qualitative? If qualitative, is it ordinal or nominal? \n",
    "1. How are the zip code values encoded in python: ints, floats, strings, booleans ...\n",
    "\n",
    "To answer the second question you might want to examine a particular entry."
   ]
  },
  {
   "cell_type": "code",
   "execution_count": 91,
   "metadata": {
    "tags": [
     "student",
     "written"
    ]
   },
   "outputs": [
    {
     "data": {
      "text/markdown": [
       "\n",
       "\n",
       "1. Zip code is qualitative nominal data\n",
       "2. Zip code values are strings\n",
       "\n"
      ],
      "text/plain": [
       "<IPython.core.display.Markdown object>"
      ]
     },
     "metadata": {},
     "output_type": "display_data"
    },
    {
     "data": {
      "text/plain": [
       "0         <class 'str'>\n",
       "1         <class 'str'>\n",
       "2         <class 'str'>\n",
       "3         <class 'str'>\n",
       "4         <class 'str'>\n",
       "5         <class 'str'>\n",
       "6         <class 'str'>\n",
       "7         <class 'str'>\n",
       "8         <class 'str'>\n",
       "9         <class 'str'>\n",
       "10        <class 'str'>\n",
       "11        <class 'str'>\n",
       "12        <class 'str'>\n",
       "13        <class 'str'>\n",
       "14        <class 'str'>\n",
       "15        <class 'str'>\n",
       "16        <class 'str'>\n",
       "17        <class 'str'>\n",
       "18        <class 'str'>\n",
       "19        <class 'str'>\n",
       "20        <class 'str'>\n",
       "21        <class 'str'>\n",
       "22        <class 'str'>\n",
       "23        <class 'str'>\n",
       "24        <class 'str'>\n",
       "25        <class 'str'>\n",
       "26        <class 'str'>\n",
       "27        <class 'str'>\n",
       "28        <class 'str'>\n",
       "29        <class 'str'>\n",
       "             ...       \n",
       "6285    <class 'float'>\n",
       "6286      <class 'str'>\n",
       "6287      <class 'str'>\n",
       "6288      <class 'str'>\n",
       "6289      <class 'str'>\n",
       "6290      <class 'str'>\n",
       "6291      <class 'str'>\n",
       "6292      <class 'str'>\n",
       "6293      <class 'str'>\n",
       "6294      <class 'str'>\n",
       "6295      <class 'str'>\n",
       "6296      <class 'str'>\n",
       "6297      <class 'str'>\n",
       "6298      <class 'str'>\n",
       "6299      <class 'str'>\n",
       "6300      <class 'str'>\n",
       "6301      <class 'str'>\n",
       "6302      <class 'str'>\n",
       "6303      <class 'str'>\n",
       "6304      <class 'str'>\n",
       "6305      <class 'str'>\n",
       "6306      <class 'str'>\n",
       "6307      <class 'str'>\n",
       "6308      <class 'str'>\n",
       "6309      <class 'str'>\n",
       "6310      <class 'str'>\n",
       "6311      <class 'str'>\n",
       "6312      <class 'str'>\n",
       "6313      <class 'str'>\n",
       "6314      <class 'str'>\n",
       "Name: postal_code, Length: 6315, dtype: object"
      ]
     },
     "execution_count": 91,
     "metadata": {},
     "output_type": "execute_result"
    }
   ],
   "source": [
    "\n",
    "\n",
    "# Use this cell for your explorations.\n",
    "q3a_answer = r\"\"\"\n",
    "\n",
    "1. Zip code is qualitative nominal data\n",
    "2. Zip code values are strings\n",
    "\n",
    "\"\"\"\n",
    "\n",
    "display(Markdown(q3a_answer))\n",
    "\n",
    "bus.loc[:,\"postal_code\"].apply(type)"
   ]
  },
  {
   "cell_type": "markdown",
   "metadata": {},
   "source": [
    "#### Question 3b\n",
    "\n",
    "To explore the zip code values, it makes sense to examine counts, i.e., the number of records  that have the same zip code value. This is essentially answering the question: How many restaurants are in each zip code? \n",
    "\n",
    "Please generate a dataframe with `postal_code` as the index and a column called `count` which denotes the number of restaurants for each zip code.   If the zipcode is missing be sure to replace it with `MISSING` (e.g., by using `fillna`)."
   ]
  },
  {
   "cell_type": "code",
   "execution_count": 92,
   "metadata": {
    "tags": [
     "student"
    ]
   },
   "outputs": [
    {
     "data": {
      "text/html": [
       "<div>\n",
       "<style>\n",
       "    .dataframe thead tr:only-child th {\n",
       "        text-align: right;\n",
       "    }\n",
       "\n",
       "    .dataframe thead th {\n",
       "        text-align: left;\n",
       "    }\n",
       "\n",
       "    .dataframe tbody tr th {\n",
       "        vertical-align: top;\n",
       "    }\n",
       "</style>\n",
       "<table border=\"1\" class=\"dataframe\">\n",
       "  <thead>\n",
       "    <tr style=\"text-align: right;\">\n",
       "      <th></th>\n",
       "      <th>count</th>\n",
       "    </tr>\n",
       "    <tr>\n",
       "      <th>postal_code</th>\n",
       "      <th></th>\n",
       "    </tr>\n",
       "  </thead>\n",
       "  <tbody>\n",
       "    <tr>\n",
       "      <th>00000</th>\n",
       "      <td>1</td>\n",
       "    </tr>\n",
       "    <tr>\n",
       "      <th>92672</th>\n",
       "      <td>1</td>\n",
       "    </tr>\n",
       "    <tr>\n",
       "      <th>94013</th>\n",
       "      <td>2</td>\n",
       "    </tr>\n",
       "    <tr>\n",
       "      <th>94014</th>\n",
       "      <td>2</td>\n",
       "    </tr>\n",
       "    <tr>\n",
       "      <th>94066</th>\n",
       "      <td>1</td>\n",
       "    </tr>\n",
       "    <tr>\n",
       "      <th>941</th>\n",
       "      <td>1</td>\n",
       "    </tr>\n",
       "    <tr>\n",
       "      <th>94101</th>\n",
       "      <td>2</td>\n",
       "    </tr>\n",
       "    <tr>\n",
       "      <th>94102</th>\n",
       "      <td>458</td>\n",
       "    </tr>\n",
       "    <tr>\n",
       "      <th>94103</th>\n",
       "      <td>558</td>\n",
       "    </tr>\n",
       "    <tr>\n",
       "      <th>941033148</th>\n",
       "      <td>1</td>\n",
       "    </tr>\n",
       "    <tr>\n",
       "      <th>94104</th>\n",
       "      <td>133</td>\n",
       "    </tr>\n",
       "    <tr>\n",
       "      <th>94105</th>\n",
       "      <td>226</td>\n",
       "    </tr>\n",
       "    <tr>\n",
       "      <th>94107</th>\n",
       "      <td>451</td>\n",
       "    </tr>\n",
       "    <tr>\n",
       "      <th>94108</th>\n",
       "      <td>224</td>\n",
       "    </tr>\n",
       "    <tr>\n",
       "      <th>94109</th>\n",
       "      <td>383</td>\n",
       "    </tr>\n",
       "    <tr>\n",
       "      <th>94110</th>\n",
       "      <td>585</td>\n",
       "    </tr>\n",
       "    <tr>\n",
       "      <th>941102019</th>\n",
       "      <td>1</td>\n",
       "    </tr>\n",
       "    <tr>\n",
       "      <th>94111</th>\n",
       "      <td>282</td>\n",
       "    </tr>\n",
       "    <tr>\n",
       "      <th>94112</th>\n",
       "      <td>190</td>\n",
       "    </tr>\n",
       "    <tr>\n",
       "      <th>94114</th>\n",
       "      <td>230</td>\n",
       "    </tr>\n",
       "    <tr>\n",
       "      <th>94115</th>\n",
       "      <td>238</td>\n",
       "    </tr>\n",
       "    <tr>\n",
       "      <th>94116</th>\n",
       "      <td>93</td>\n",
       "    </tr>\n",
       "    <tr>\n",
       "      <th>94117</th>\n",
       "      <td>197</td>\n",
       "    </tr>\n",
       "    <tr>\n",
       "      <th>94118</th>\n",
       "      <td>243</td>\n",
       "    </tr>\n",
       "    <tr>\n",
       "      <th>94120</th>\n",
       "      <td>1</td>\n",
       "    </tr>\n",
       "    <tr>\n",
       "      <th>94121</th>\n",
       "      <td>161</td>\n",
       "    </tr>\n",
       "    <tr>\n",
       "      <th>94122</th>\n",
       "      <td>270</td>\n",
       "    </tr>\n",
       "    <tr>\n",
       "      <th>94123</th>\n",
       "      <td>169</td>\n",
       "    </tr>\n",
       "    <tr>\n",
       "      <th>94124</th>\n",
       "      <td>164</td>\n",
       "    </tr>\n",
       "    <tr>\n",
       "      <th>94127</th>\n",
       "      <td>71</td>\n",
       "    </tr>\n",
       "    <tr>\n",
       "      <th>94129</th>\n",
       "      <td>2</td>\n",
       "    </tr>\n",
       "    <tr>\n",
       "      <th>94130</th>\n",
       "      <td>8</td>\n",
       "    </tr>\n",
       "    <tr>\n",
       "      <th>94131</th>\n",
       "      <td>48</td>\n",
       "    </tr>\n",
       "    <tr>\n",
       "      <th>94132</th>\n",
       "      <td>134</td>\n",
       "    </tr>\n",
       "    <tr>\n",
       "      <th>94133</th>\n",
       "      <td>417</td>\n",
       "    </tr>\n",
       "    <tr>\n",
       "      <th>94134</th>\n",
       "      <td>74</td>\n",
       "    </tr>\n",
       "    <tr>\n",
       "      <th>94143</th>\n",
       "      <td>5</td>\n",
       "    </tr>\n",
       "    <tr>\n",
       "      <th>94158</th>\n",
       "      <td>17</td>\n",
       "    </tr>\n",
       "    <tr>\n",
       "      <th>94188</th>\n",
       "      <td>1</td>\n",
       "    </tr>\n",
       "    <tr>\n",
       "      <th>94545</th>\n",
       "      <td>1</td>\n",
       "    </tr>\n",
       "    <tr>\n",
       "      <th>94602</th>\n",
       "      <td>1</td>\n",
       "    </tr>\n",
       "    <tr>\n",
       "      <th>94609</th>\n",
       "      <td>1</td>\n",
       "    </tr>\n",
       "    <tr>\n",
       "      <th>94621</th>\n",
       "      <td>1</td>\n",
       "    </tr>\n",
       "    <tr>\n",
       "      <th>95105</th>\n",
       "      <td>1</td>\n",
       "    </tr>\n",
       "    <tr>\n",
       "      <th>CA</th>\n",
       "      <td>3</td>\n",
       "    </tr>\n",
       "    <tr>\n",
       "      <th>Ca</th>\n",
       "      <td>3</td>\n",
       "    </tr>\n",
       "    <tr>\n",
       "      <th>MISSING</th>\n",
       "      <td>259</td>\n",
       "    </tr>\n",
       "  </tbody>\n",
       "</table>\n",
       "</div>"
      ],
      "text/plain": [
       "             count\n",
       "postal_code       \n",
       "00000            1\n",
       "92672            1\n",
       "94013            2\n",
       "94014            2\n",
       "94066            1\n",
       "941              1\n",
       "94101            2\n",
       "94102          458\n",
       "94103          558\n",
       "941033148        1\n",
       "94104          133\n",
       "94105          226\n",
       "94107          451\n",
       "94108          224\n",
       "94109          383\n",
       "94110          585\n",
       "941102019        1\n",
       "94111          282\n",
       "94112          190\n",
       "94114          230\n",
       "94115          238\n",
       "94116           93\n",
       "94117          197\n",
       "94118          243\n",
       "94120            1\n",
       "94121          161\n",
       "94122          270\n",
       "94123          169\n",
       "94124          164\n",
       "94127           71\n",
       "94129            2\n",
       "94130            8\n",
       "94131           48\n",
       "94132          134\n",
       "94133          417\n",
       "94134           74\n",
       "94143            5\n",
       "94158           17\n",
       "94188            1\n",
       "94545            1\n",
       "94602            1\n",
       "94609            1\n",
       "94621            1\n",
       "95105            1\n",
       "CA               3\n",
       "Ca               3\n",
       "MISSING        259"
      ]
     },
     "execution_count": 92,
     "metadata": {},
     "output_type": "execute_result"
    }
   ],
   "source": [
    "zip_counts = bus.fillna(\"MISSING\").groupby([\"postal_code\"])[\"name\"].count().to_frame()\n",
    "zip_counts = zip_counts.rename(columns={'name': 'count'})\n",
    "zip_counts"
   ]
  },
  {
   "cell_type": "code",
   "execution_count": 93,
   "metadata": {},
   "outputs": [
    {
     "name": "stdout",
     "output_type": "stream",
     "text": [
      "~~~~~~~~~~~~~~~~~~~~~~~~~~~~~~~~~~~~~~~~~~~~~~~~~~~~~~~~~~~~~~~~~~~~~\n",
      "Running tests\n",
      "\n",
      "---------------------------------------------------------------------\n",
      "Test summary\n",
      "    Passed: 4\n",
      "    Failed: 0\n",
      "[ooooooooook] 100.0% passed\n",
      "\n"
     ]
    },
    {
     "data": {
      "application/javascript": [
       "IPython.notebook.save_checkpoint();"
      ],
      "text/plain": [
       "<IPython.core.display.Javascript object>"
      ]
     },
     "metadata": {},
     "output_type": "display_data"
    },
    {
     "data": {
      "application/javascript": [
       "IPython.notebook.save_notebook();"
      ],
      "text/plain": [
       "<IPython.core.display.Javascript object>"
      ]
     },
     "metadata": {},
     "output_type": "display_data"
    },
    {
     "name": "stdout",
     "output_type": "stream",
     "text": [
      "Saving notebook... Saved 'hw2.ipynb'.\n",
      "Backup... 100% complete\n",
      "Backup successful for user: dcroce@berkeley.edu\n",
      "URL: https://okpy.org/cal/ds100/fa17/hw2/backups/W690gg\n",
      "NOTE: this is only a backup. To submit your assignment, use:\n",
      "\tpython3 ok --submit\n",
      "\n"
     ]
    }
   ],
   "source": [
    "_ = ok.grade('q03b')\n",
    "_ = ok.backup()"
   ]
  },
  {
   "cell_type": "markdown",
   "metadata": {},
   "source": [
    "We see that there are many missing values for zip code. There is also some bad data where the postal code got screwed up, e.g., there are 3 'Ca' and 3 'CA' values. Additionally, there are some extended postal codes that are 9 digits long, rather than the typical 5 digits.\n",
    "\n",
    "Let's clean up the extended zip codes by dropping the digits beyond the first 5. It's typically good practice to keep the original values when we are manipulating data and place the modified data in a new column in the DataFrame. We'll call the new column `zip_code`."
   ]
  },
  {
   "cell_type": "code",
   "execution_count": 94,
   "metadata": {},
   "outputs": [
    {
     "data": {
      "text/plain": [
       "94110    586\n",
       "94103    559\n",
       "94102    458\n",
       "94107    451\n",
       "94133    417\n",
       "94109    383\n",
       "94111    282\n",
       "94122    270\n",
       "NaN      259\n",
       "94118    243\n",
       "94115    238\n",
       "94114    230\n",
       "94105    226\n",
       "94108    224\n",
       "94117    197\n",
       "94112    190\n",
       "94123    169\n",
       "94124    164\n",
       "94121    161\n",
       "94132    134\n",
       "94104    133\n",
       "94116     93\n",
       "94134     74\n",
       "94127     71\n",
       "94131     48\n",
       "94158     17\n",
       "94130      8\n",
       "94143      5\n",
       "Ca         3\n",
       "CA         3\n",
       "94129      2\n",
       "94013      2\n",
       "94014      2\n",
       "94101      2\n",
       "94609      1\n",
       "95105      1\n",
       "94066      1\n",
       "94120      1\n",
       "94545      1\n",
       "94188      1\n",
       "94602      1\n",
       "94621      1\n",
       "00000      1\n",
       "92672      1\n",
       "941        1\n",
       "Name: zip_code, dtype: int64"
      ]
     },
     "execution_count": 94,
     "metadata": {},
     "output_type": "execute_result"
    }
   ],
   "source": [
    "# Run me\n",
    "bus['zip_code'] = bus['postal_code'].str[:5]\n",
    "bus['zip_code'].value_counts(dropna=False)"
   ]
  },
  {
   "cell_type": "markdown",
   "metadata": {
    "tags": [
     "written"
    ]
   },
   "source": [
    "#### Question 3c\n",
    "\n",
    "We notice that there are still a lot of missing values!  Examine the businesses with missing zipcode values.  Pay attention to their addresses.  Are there any patterns to missing values in zip codes?\n",
    "\n",
    "**Hint:** You can use `.iloc` to look at different sections of the DataFrame."
   ]
  },
  {
   "cell_type": "code",
   "execution_count": 95,
   "metadata": {
    "tags": [
     "student",
     "written"
    ]
   },
   "outputs": [
    {
     "data": {
      "text/markdown": [
       "\n",
       "\n",
       "The corresponding addresses are either at corners, Off the grid, various locations, or other non-physical\n",
       "locations. This means this likely a food truck or other mobile business which makes the zip code difficult to determine.\n",
       "\n"
      ],
      "text/plain": [
       "<IPython.core.display.Markdown object>"
      ]
     },
     "metadata": {},
     "output_type": "display_data"
    }
   ],
   "source": [
    "# Use this cell for your explorations.\n",
    "q3c_answer = r\"\"\"\n",
    "\n",
    "The corresponding addresses are either at corners, Off the grid, various locations, or other non-physical\n",
    "locations. This means this likely a food truck or other mobile business which makes the zip code difficult to determine.\n",
    "\n",
    "\"\"\"\n",
    "\n",
    "display(Markdown(q3c_answer))\n",
    "\n",
    "#bus[bus[\"postal_code\"].isnull()]"
   ]
  },
  {
   "cell_type": "markdown",
   "metadata": {
    "tags": [
     "written"
    ]
   },
   "source": [
    "#### Question 3d\n",
    "\n",
    "Often times, we need to get additional information in order to understand whether or not the data are bad values or simply unusual values. With zip codes, we can use the Internet to investigate the zip codes that have only a few businesses. Investigate the restaurants at the following zip codes: *94545*, *94602*, and *94609*.  \n",
    "\n",
    "Briefly describe why these strange zip codes might be appropriate.  Where are they located and how might they relate to San Francisco?\n"
   ]
  },
  {
   "cell_type": "code",
   "execution_count": 96,
   "metadata": {},
   "outputs": [
    {
     "data": {
      "text/html": [
       "<div>\n",
       "<style>\n",
       "    .dataframe thead tr:only-child th {\n",
       "        text-align: right;\n",
       "    }\n",
       "\n",
       "    .dataframe thead th {\n",
       "        text-align: left;\n",
       "    }\n",
       "\n",
       "    .dataframe tbody tr th {\n",
       "        vertical-align: top;\n",
       "    }\n",
       "</style>\n",
       "<table border=\"1\" class=\"dataframe\">\n",
       "  <thead>\n",
       "    <tr style=\"text-align: right;\">\n",
       "      <th></th>\n",
       "      <th>business_id</th>\n",
       "      <th>name</th>\n",
       "      <th>address</th>\n",
       "      <th>city</th>\n",
       "      <th>state</th>\n",
       "      <th>postal_code</th>\n",
       "      <th>latitude</th>\n",
       "      <th>longitude</th>\n",
       "      <th>phone_number</th>\n",
       "    </tr>\n",
       "    <tr>\n",
       "      <th>zip_code</th>\n",
       "      <th></th>\n",
       "      <th></th>\n",
       "      <th></th>\n",
       "      <th></th>\n",
       "      <th></th>\n",
       "      <th></th>\n",
       "      <th></th>\n",
       "      <th></th>\n",
       "      <th></th>\n",
       "    </tr>\n",
       "  </thead>\n",
       "  <tbody>\n",
       "    <tr>\n",
       "      <th>94545</th>\n",
       "      <td>5755</td>\n",
       "      <td>J &amp; J VENDING</td>\n",
       "      <td>VARIOUS LOACATIONS (17)</td>\n",
       "      <td>San Francisco</td>\n",
       "      <td>CA</td>\n",
       "      <td>94545</td>\n",
       "      <td>NaN</td>\n",
       "      <td>NaN</td>\n",
       "      <td>+14156750910</td>\n",
       "    </tr>\n",
       "    <tr>\n",
       "      <th>94602</th>\n",
       "      <td>85459</td>\n",
       "      <td>ORBIT ROOM</td>\n",
       "      <td>1900 MARKET ST</td>\n",
       "      <td>San Francisco</td>\n",
       "      <td>CA</td>\n",
       "      <td>94602</td>\n",
       "      <td>NaN</td>\n",
       "      <td>NaN</td>\n",
       "      <td>+14153705584</td>\n",
       "    </tr>\n",
       "    <tr>\n",
       "      <th>94609</th>\n",
       "      <td>65673</td>\n",
       "      <td>DOC'S OF THE BAY</td>\n",
       "      <td>PUBLIC RIGHT OF WAY</td>\n",
       "      <td>San Francisco</td>\n",
       "      <td>CA</td>\n",
       "      <td>94609</td>\n",
       "      <td>37.834628</td>\n",
       "      <td>-122.264171</td>\n",
       "      <td>+14156883245</td>\n",
       "    </tr>\n",
       "  </tbody>\n",
       "</table>\n",
       "</div>"
      ],
      "text/plain": [
       "          business_id              name                  address  \\\n",
       "zip_code                                                           \n",
       "94545            5755     J & J VENDING  VARIOUS LOACATIONS (17)   \n",
       "94602           85459        ORBIT ROOM          1900 MARKET ST    \n",
       "94609           65673  DOC'S OF THE BAY    PUBLIC RIGHT OF WAY     \n",
       "\n",
       "                   city state postal_code   latitude   longitude  phone_number  \n",
       "zip_code                                                                        \n",
       "94545     San Francisco    CA       94545        NaN         NaN  +14156750910  \n",
       "94602     San Francisco    CA       94602        NaN         NaN  +14153705584  \n",
       "94609     San Francisco    CA       94609  37.834628 -122.264171  +14156883245  "
      ]
     },
     "execution_count": 96,
     "metadata": {},
     "output_type": "execute_result"
    }
   ],
   "source": [
    "bus.set_index('zip_code').loc[[\"94545\", \"94602\", \"94609\"]]"
   ]
  },
  {
   "cell_type": "code",
   "execution_count": 97,
   "metadata": {
    "tags": [
     "student",
     "written"
    ]
   },
   "outputs": [
    {
     "data": {
      "text/markdown": [
       "\n",
       "\n",
       "94545 - this zip corresponds to Alameda county. This is nearby but not in SF. \n",
       "Since the address is various locations, it makes sense that the zip code could be slighlty outside of SF.\n",
       "\n",
       "94602 - this zip corresponds to Oakland. There is a 1900 Market Street in SF as well as in \n",
       "Oakland in that zip code.\n",
       "\n",
       "94609 - this zip corresponds to Oakland. Public right of way means land that is reserved for transit,\n",
       "so it is likely this is a street vendor. Thus, the zip code being in Oakland makes sense since it is \n",
       "near SF but doesn't have to be in SF.\n",
       "\n"
      ],
      "text/plain": [
       "<IPython.core.display.Markdown object>"
      ]
     },
     "metadata": {},
     "output_type": "display_data"
    }
   ],
   "source": [
    "# Use this cell for your explorations.\n",
    "q3d_answer = r\"\"\"\n",
    "\n",
    "94545 - this zip corresponds to Alameda county. This is nearby but not in SF. \n",
    "Since the address is various locations, it makes sense that the zip code could be slighlty outside of SF.\n",
    "\n",
    "94602 - this zip corresponds to Oakland. There is a 1900 Market Street in SF as well as in \n",
    "Oakland in that zip code.\n",
    "\n",
    "94609 - this zip corresponds to Oakland. Public right of way means land that is reserved for transit,\n",
    "so it is likely this is a street vendor. Thus, the zip code being in Oakland makes sense since it is \n",
    "near SF but doesn't have to be in SF.\n",
    "\n",
    "\"\"\"\n",
    "\n",
    "display(Markdown(q3d_answer))"
   ]
  },
  {
   "cell_type": "markdown",
   "metadata": {},
   "source": [
    "#### Question 3e\n",
    "\n",
    "Often want to clean the data to improve our analysis. This cleaning might include changing values for a variable or dropping records.\n",
    "\n",
    "Let's correct 94602 to the more likely value based on your analysis.  Let's modify the derived field `zip_code` using `bus['zip_code'].str.replace` to replace 94602 with the correct value."
   ]
  },
  {
   "cell_type": "code",
   "execution_count": 98,
   "metadata": {
    "tags": [
     "student"
    ]
   },
   "outputs": [],
   "source": [
    "\n",
    "bus['zip_code'] = bus['zip_code'].str.replace(\"94602\", \"94102\")"
   ]
  },
  {
   "cell_type": "code",
   "execution_count": 99,
   "metadata": {},
   "outputs": [
    {
     "name": "stdout",
     "output_type": "stream",
     "text": [
      "~~~~~~~~~~~~~~~~~~~~~~~~~~~~~~~~~~~~~~~~~~~~~~~~~~~~~~~~~~~~~~~~~~~~~\n",
      "Running tests\n",
      "\n",
      "---------------------------------------------------------------------\n",
      "Test summary\n",
      "    Passed: 1\n",
      "    Failed: 0\n",
      "[ooooooooook] 100.0% passed\n",
      "\n"
     ]
    },
    {
     "data": {
      "application/javascript": [
       "IPython.notebook.save_checkpoint();"
      ],
      "text/plain": [
       "<IPython.core.display.Javascript object>"
      ]
     },
     "metadata": {},
     "output_type": "display_data"
    },
    {
     "data": {
      "application/javascript": [
       "IPython.notebook.save_notebook();"
      ],
      "text/plain": [
       "<IPython.core.display.Javascript object>"
      ]
     },
     "metadata": {},
     "output_type": "display_data"
    },
    {
     "name": "stdout",
     "output_type": "stream",
     "text": [
      "Saving notebook... Saved 'hw2.ipynb'.\n",
      "Backup... 100% complete\n",
      "Backup successful for user: dcroce@berkeley.edu\n",
      "URL: https://okpy.org/cal/ds100/fa17/hw2/backups/XD9ljm\n",
      "NOTE: this is only a backup. To submit your assignment, use:\n",
      "\tpython3 ok --submit\n",
      "\n"
     ]
    }
   ],
   "source": [
    "_ = ok.grade('q03e')\n",
    "_ = ok.backup()"
   ]
  },
  {
   "cell_type": "markdown",
   "metadata": {},
   "source": [
    "## Latitude and Longitude\n",
    "\n",
    "Another aspect of the data we want to consider is the prevalence of missing values. If many records have missing values then we might be concerned about whether the nonmissing values are represenative of the population.\n",
    "\n",
    "### Question 4\n",
    " \n",
    "Consider the longitude and latitude in the business DataFrame. \n",
    "\n",
    "#### Question 4a\n",
    "\n",
    "How many businesses are missing longitude and latitude values?"
   ]
  },
  {
   "cell_type": "code",
   "execution_count": 100,
   "metadata": {
    "tags": [
     "student"
    ]
   },
   "outputs": [],
   "source": [
    "\n",
    "missing_latlongs = len(bus[bus[\"longitude\"].isnull()].index)"
   ]
  },
  {
   "cell_type": "code",
   "execution_count": 101,
   "metadata": {},
   "outputs": [
    {
     "name": "stdout",
     "output_type": "stream",
     "text": [
      "~~~~~~~~~~~~~~~~~~~~~~~~~~~~~~~~~~~~~~~~~~~~~~~~~~~~~~~~~~~~~~~~~~~~~\n",
      "Running tests\n",
      "\n",
      "---------------------------------------------------------------------\n",
      "Test summary\n",
      "    Passed: 1\n",
      "    Failed: 0\n",
      "[ooooooooook] 100.0% passed\n",
      "\n"
     ]
    },
    {
     "data": {
      "application/javascript": [
       "IPython.notebook.save_checkpoint();"
      ],
      "text/plain": [
       "<IPython.core.display.Javascript object>"
      ]
     },
     "metadata": {},
     "output_type": "display_data"
    },
    {
     "data": {
      "application/javascript": [
       "IPython.notebook.save_notebook();"
      ],
      "text/plain": [
       "<IPython.core.display.Javascript object>"
      ]
     },
     "metadata": {},
     "output_type": "display_data"
    },
    {
     "name": "stdout",
     "output_type": "stream",
     "text": [
      "Saving notebook... Saved 'hw2.ipynb'.\n",
      "Backup... 100% complete\n",
      "Backup successful for user: dcroce@berkeley.edu\n",
      "URL: https://okpy.org/cal/ds100/fa17/hw2/backups/YE9mop\n",
      "NOTE: this is only a backup. To submit your assignment, use:\n",
      "\tpython3 ok --submit\n",
      "\n"
     ]
    }
   ],
   "source": [
    "_ = ok.grade('q04a')\n",
    "_ = ok.backup()"
   ]
  },
  {
   "cell_type": "markdown",
   "metadata": {
    "collapsed": true
   },
   "source": [
    "Do some zip codes have more than their fair share of missing lat/lon values?\n",
    "\n",
    "Let's reduce our comparison to just those zips that are in SF and that have many businesses. Below is a list of zip codes."
   ]
  },
  {
   "cell_type": "code",
   "execution_count": 102,
   "metadata": {
    "collapsed": true
   },
   "outputs": [],
   "source": [
    "validZip = [\"94102\", \"94103\", \"94104\", \"94105\", \"94107\", \"94108\",\n",
    "            \"94109\", \"94110\", \"94111\", \"94112\", \"94114\", \"94115\",\n",
    "            \"94116\", \"94117\", \"94118\", \"94121\", \"94122\", \"94123\", \n",
    "            \"94124\", \"94127\", \"94131\", \"94132\", \"94133\", \"94134\"]"
   ]
  },
  {
   "cell_type": "markdown",
   "metadata": {},
   "source": [
    "#### Question 4b\n",
    "\n",
    "For these zip codes find the number of businesses in each zip code and the number without longitude values. Do any zip codes appear to have more than their 'fair share' of missing longitude? To answer this, you will want to compare the proportion of missing values for each zip code.\n",
    "\n",
    "Create a new dataframe of counts of the null and proportion of null values, storing the result in `bus_sf_latlong`. It should have 3 columns:\n",
    "\n",
    "1. `zip_code`: Contains the zip codes in the `validZip` variable above.\n",
    "2. `null_lon`: The number of missing values for the zip code.\n",
    "3. `not_null_lon`: The proportion of present values for the zip code."
   ]
  },
  {
   "cell_type": "code",
   "execution_count": 103,
   "metadata": {
    "tags": [
     "student"
    ]
   },
   "outputs": [
    {
     "data": {
      "text/html": [
       "<div>\n",
       "<style>\n",
       "    .dataframe thead tr:only-child th {\n",
       "        text-align: right;\n",
       "    }\n",
       "\n",
       "    .dataframe thead th {\n",
       "        text-align: left;\n",
       "    }\n",
       "\n",
       "    .dataframe tbody tr th {\n",
       "        vertical-align: top;\n",
       "    }\n",
       "</style>\n",
       "<table border=\"1\" class=\"dataframe\">\n",
       "  <thead>\n",
       "    <tr style=\"text-align: right;\">\n",
       "      <th></th>\n",
       "      <th>zip_code</th>\n",
       "      <th>null_lon</th>\n",
       "      <th>not_null_lon</th>\n",
       "    </tr>\n",
       "  </thead>\n",
       "  <tbody>\n",
       "    <tr>\n",
       "      <th>0</th>\n",
       "      <td>94102</td>\n",
       "      <td>197</td>\n",
       "      <td>0.570806</td>\n",
       "    </tr>\n",
       "    <tr>\n",
       "      <th>1</th>\n",
       "      <td>94103</td>\n",
       "      <td>253</td>\n",
       "      <td>0.547406</td>\n",
       "    </tr>\n",
       "    <tr>\n",
       "      <th>2</th>\n",
       "      <td>94104</td>\n",
       "      <td>59</td>\n",
       "      <td>0.556391</td>\n",
       "    </tr>\n",
       "    <tr>\n",
       "      <th>3</th>\n",
       "      <td>94105</td>\n",
       "      <td>100</td>\n",
       "      <td>0.557522</td>\n",
       "    </tr>\n",
       "    <tr>\n",
       "      <th>4</th>\n",
       "      <td>94107</td>\n",
       "      <td>247</td>\n",
       "      <td>0.452328</td>\n",
       "    </tr>\n",
       "    <tr>\n",
       "      <th>5</th>\n",
       "      <td>94108</td>\n",
       "      <td>82</td>\n",
       "      <td>0.633929</td>\n",
       "    </tr>\n",
       "    <tr>\n",
       "      <th>6</th>\n",
       "      <td>94109</td>\n",
       "      <td>146</td>\n",
       "      <td>0.618799</td>\n",
       "    </tr>\n",
       "    <tr>\n",
       "      <th>7</th>\n",
       "      <td>94110</td>\n",
       "      <td>251</td>\n",
       "      <td>0.571672</td>\n",
       "    </tr>\n",
       "    <tr>\n",
       "      <th>8</th>\n",
       "      <td>94111</td>\n",
       "      <td>115</td>\n",
       "      <td>0.592199</td>\n",
       "    </tr>\n",
       "    <tr>\n",
       "      <th>9</th>\n",
       "      <td>94112</td>\n",
       "      <td>59</td>\n",
       "      <td>0.689474</td>\n",
       "    </tr>\n",
       "    <tr>\n",
       "      <th>10</th>\n",
       "      <td>94114</td>\n",
       "      <td>108</td>\n",
       "      <td>0.530435</td>\n",
       "    </tr>\n",
       "    <tr>\n",
       "      <th>11</th>\n",
       "      <td>94115</td>\n",
       "      <td>76</td>\n",
       "      <td>0.680672</td>\n",
       "    </tr>\n",
       "    <tr>\n",
       "      <th>12</th>\n",
       "      <td>94116</td>\n",
       "      <td>35</td>\n",
       "      <td>0.623656</td>\n",
       "    </tr>\n",
       "    <tr>\n",
       "      <th>13</th>\n",
       "      <td>94117</td>\n",
       "      <td>67</td>\n",
       "      <td>0.659898</td>\n",
       "    </tr>\n",
       "    <tr>\n",
       "      <th>14</th>\n",
       "      <td>94118</td>\n",
       "      <td>100</td>\n",
       "      <td>0.588477</td>\n",
       "    </tr>\n",
       "    <tr>\n",
       "      <th>15</th>\n",
       "      <td>94121</td>\n",
       "      <td>55</td>\n",
       "      <td>0.658385</td>\n",
       "    </tr>\n",
       "    <tr>\n",
       "      <th>16</th>\n",
       "      <td>94122</td>\n",
       "      <td>123</td>\n",
       "      <td>0.544444</td>\n",
       "    </tr>\n",
       "    <tr>\n",
       "      <th>17</th>\n",
       "      <td>94123</td>\n",
       "      <td>53</td>\n",
       "      <td>0.686391</td>\n",
       "    </tr>\n",
       "    <tr>\n",
       "      <th>18</th>\n",
       "      <td>94124</td>\n",
       "      <td>88</td>\n",
       "      <td>0.463415</td>\n",
       "    </tr>\n",
       "    <tr>\n",
       "      <th>19</th>\n",
       "      <td>94127</td>\n",
       "      <td>28</td>\n",
       "      <td>0.605634</td>\n",
       "    </tr>\n",
       "    <tr>\n",
       "      <th>20</th>\n",
       "      <td>94131</td>\n",
       "      <td>14</td>\n",
       "      <td>0.708333</td>\n",
       "    </tr>\n",
       "    <tr>\n",
       "      <th>21</th>\n",
       "      <td>94132</td>\n",
       "      <td>65</td>\n",
       "      <td>0.514925</td>\n",
       "    </tr>\n",
       "    <tr>\n",
       "      <th>22</th>\n",
       "      <td>94133</td>\n",
       "      <td>135</td>\n",
       "      <td>0.676259</td>\n",
       "    </tr>\n",
       "    <tr>\n",
       "      <th>23</th>\n",
       "      <td>94134</td>\n",
       "      <td>29</td>\n",
       "      <td>0.608108</td>\n",
       "    </tr>\n",
       "  </tbody>\n",
       "</table>\n",
       "</div>"
      ],
      "text/plain": [
       "   zip_code  null_lon  not_null_lon\n",
       "0     94102       197      0.570806\n",
       "1     94103       253      0.547406\n",
       "2     94104        59      0.556391\n",
       "3     94105       100      0.557522\n",
       "4     94107       247      0.452328\n",
       "5     94108        82      0.633929\n",
       "6     94109       146      0.618799\n",
       "7     94110       251      0.571672\n",
       "8     94111       115      0.592199\n",
       "9     94112        59      0.689474\n",
       "10    94114       108      0.530435\n",
       "11    94115        76      0.680672\n",
       "12    94116        35      0.623656\n",
       "13    94117        67      0.659898\n",
       "14    94118       100      0.588477\n",
       "15    94121        55      0.658385\n",
       "16    94122       123      0.544444\n",
       "17    94123        53      0.686391\n",
       "18    94124        88      0.463415\n",
       "19    94127        28      0.605634\n",
       "20    94131        14      0.708333\n",
       "21    94132        65      0.514925\n",
       "22    94133       135      0.676259\n",
       "23    94134        29      0.608108"
      ]
     },
     "execution_count": 103,
     "metadata": {},
     "output_type": "execute_result"
    }
   ],
   "source": [
    "\n",
    "# You might want to filter the bus dataframe to contain only the validZip\n",
    "bus_sf = bus[bus[\"zip_code\"].isin(validZip)]\n",
    "\n",
    "# Create a new dataframe of counts of the null and proportion of null values\n",
    "bus_sf_latlong = pd.DataFrame(columns = [\"zip_code\", \"null_lon\", \"not_null_lon\"])\n",
    "bus_sf_latlong[\"zip_code\"] = validZip\n",
    "grouped = bus_sf.groupby([\"zip_code\"]).count()\n",
    "bus_sf_latlong[\"null_lon\"] = (grouped[\"postal_code\"] - grouped[\"latitude\"]).values\n",
    "bus_sf_latlong[\"not_null_lon\"] = (grouped[\"latitude\"] / grouped[\"postal_code\"]).values\n",
    "\n",
    "bus_sf_latlong"
   ]
  },
  {
   "cell_type": "code",
   "execution_count": 104,
   "metadata": {},
   "outputs": [
    {
     "name": "stdout",
     "output_type": "stream",
     "text": [
      "~~~~~~~~~~~~~~~~~~~~~~~~~~~~~~~~~~~~~~~~~~~~~~~~~~~~~~~~~~~~~~~~~~~~~\n",
      "Running tests\n",
      "\n",
      "---------------------------------------------------------------------\n",
      "Test summary\n",
      "    Passed: 1\n",
      "    Failed: 0\n",
      "[ooooooooook] 100.0% passed\n",
      "\n"
     ]
    },
    {
     "data": {
      "application/javascript": [
       "IPython.notebook.save_checkpoint();"
      ],
      "text/plain": [
       "<IPython.core.display.Javascript object>"
      ]
     },
     "metadata": {},
     "output_type": "display_data"
    },
    {
     "data": {
      "application/javascript": [
       "IPython.notebook.save_notebook();"
      ],
      "text/plain": [
       "<IPython.core.display.Javascript object>"
      ]
     },
     "metadata": {},
     "output_type": "display_data"
    },
    {
     "name": "stdout",
     "output_type": "stream",
     "text": [
      "Saving notebook... Could not save your notebook. Make sure your notebook is saved before sending it to OK!\n",
      "Backup... 100% complete\n",
      "Backup successful for user: dcroce@berkeley.edu\n",
      "URL: https://okpy.org/cal/ds100/fa17/hw2/backups/Z69nq6\n",
      "NOTE: this is only a backup. To submit your assignment, use:\n",
      "\tpython3 ok --submit\n",
      "\n"
     ]
    }
   ],
   "source": [
    "_ = ok.grade('q04b')\n",
    "_ = ok.backup()"
   ]
  },
  {
   "cell_type": "markdown",
   "metadata": {},
   "source": [
    "## Summary of the business data\n",
    "\n",
    "Before we move on to explore the other data, let's take stock of what we have learned and the implications of our findings on future analysis. \n",
    "\n",
    "* We found that the business id is unique across records and so we may be able to use it as a key in joining tables. \n",
    "* We also found that there are some bad values in zip code. As a result, we may want to drop the records with zip codes outside of San Francisco or to treat them differently. For some of the bad values, we may want to take the time to look up the restaurant address online and fix these errors.   \n",
    "* We also found that there are many missing values in latitude and longitude. These may have implications on map making and geographic patterns if the missingness is related to location or restaurant score."
   ]
  },
  {
   "cell_type": "markdown",
   "metadata": {},
   "source": [
    "# Investigate the inspection data\n",
    "\n",
    "Let's now turn to the inspection DataFrame. Earlier, we found that `ins` has 4 columns, these are named `business_id`, `score`, `date` and `type`.  In this section, we determine the granularity of `ins` and investigate the kinds of information provided for the inspections. \n",
    "\n",
    "### Question 5\n",
    "\n",
    "#### Question 5a\n",
    "As with the business data, assess whether there is one inspection record for each business. "
   ]
  },
  {
   "cell_type": "code",
   "execution_count": 105,
   "metadata": {
    "tags": [
     "student"
    ]
   },
   "outputs": [
    {
     "name": "stdout",
     "output_type": "stream",
     "text": [
      "15430\n",
      "5730\n"
     ]
    }
   ],
   "source": [
    "# The number of rows in ins\n",
    "rows_in_table = len(ins)\n",
    "\n",
    "# The number of unique IDs in ins.\n",
    "unique_ins_ids = len(ins['business_id'].value_counts())\n",
    "\n",
    "# What does this tell you?\n",
    "print(rows_in_table)\n",
    "print(unique_ins_ids)\n",
    "#Tells us there are more rows than unique ids, meaning business id is not a primary key"
   ]
  },
  {
   "cell_type": "code",
   "execution_count": 106,
   "metadata": {},
   "outputs": [
    {
     "name": "stdout",
     "output_type": "stream",
     "text": [
      "~~~~~~~~~~~~~~~~~~~~~~~~~~~~~~~~~~~~~~~~~~~~~~~~~~~~~~~~~~~~~~~~~~~~~\n",
      "Running tests\n",
      "\n",
      "---------------------------------------------------------------------\n",
      "Test summary\n",
      "    Passed: 1\n",
      "    Failed: 0\n",
      "[ooooooooook] 100.0% passed\n",
      "\n"
     ]
    },
    {
     "data": {
      "application/javascript": [
       "IPython.notebook.save_checkpoint();"
      ],
      "text/plain": [
       "<IPython.core.display.Javascript object>"
      ]
     },
     "metadata": {},
     "output_type": "display_data"
    },
    {
     "data": {
      "application/javascript": [
       "IPython.notebook.save_notebook();"
      ],
      "text/plain": [
       "<IPython.core.display.Javascript object>"
      ]
     },
     "metadata": {},
     "output_type": "display_data"
    },
    {
     "name": "stdout",
     "output_type": "stream",
     "text": [
      "Saving notebook... Saved 'hw2.ipynb'.\n",
      "Backup... 100% complete\n",
      "Backup successful for user: dcroce@berkeley.edu\n",
      "URL: https://okpy.org/cal/ds100/fa17/hw2/backups/1wvNxj\n",
      "NOTE: this is only a backup. To submit your assignment, use:\n",
      "\tpython3 ok --submit\n",
      "\n"
     ]
    }
   ],
   "source": [
    "_ = ok.grade('q05a')\n",
    "_ = ok.backup()"
   ]
  },
  {
   "cell_type": "markdown",
   "metadata": {},
   "source": [
    "#### Question 5b\n",
    "\n",
    "Next, we examine the `type` variable. From examining the first few rows of `ins`, we see that `type` is a string and one of the values in the string is 'routine', presumably for a routine inspection. What values does `type` take on? How many occurrences of each value is in the DataFrame? What are the implications for further analysis?"
   ]
  },
  {
   "cell_type": "code",
   "execution_count": 107,
   "metadata": {
    "tags": [
     "student"
    ]
   },
   "outputs": [
    {
     "data": {
      "text/html": [
       "<div>\n",
       "<style>\n",
       "    .dataframe thead tr:only-child th {\n",
       "        text-align: right;\n",
       "    }\n",
       "\n",
       "    .dataframe thead th {\n",
       "        text-align: left;\n",
       "    }\n",
       "\n",
       "    .dataframe tbody tr th {\n",
       "        vertical-align: top;\n",
       "    }\n",
       "</style>\n",
       "<table border=\"1\" class=\"dataframe\">\n",
       "  <thead>\n",
       "    <tr style=\"text-align: right;\">\n",
       "      <th></th>\n",
       "      <th>business_id</th>\n",
       "      <th>score</th>\n",
       "      <th>date</th>\n",
       "    </tr>\n",
       "    <tr>\n",
       "      <th>type</th>\n",
       "      <th></th>\n",
       "      <th></th>\n",
       "      <th></th>\n",
       "    </tr>\n",
       "  </thead>\n",
       "  <tbody>\n",
       "    <tr>\n",
       "      <th>complaint</th>\n",
       "      <td>1</td>\n",
       "      <td>1</td>\n",
       "      <td>1</td>\n",
       "    </tr>\n",
       "    <tr>\n",
       "      <th>routine</th>\n",
       "      <td>15429</td>\n",
       "      <td>15429</td>\n",
       "      <td>15429</td>\n",
       "    </tr>\n",
       "  </tbody>\n",
       "</table>\n",
       "</div>"
      ],
      "text/plain": [
       "           business_id  score   date\n",
       "type                                \n",
       "complaint            1      1      1\n",
       "routine          15429  15429  15429"
      ]
     },
     "execution_count": 107,
     "metadata": {},
     "output_type": "execute_result"
    }
   ],
   "source": [
    "# use this cell for scratch work\n",
    "# \n",
    "ins.groupby(\"type\").count()\n"
   ]
  },
  {
   "cell_type": "code",
   "execution_count": 108,
   "metadata": {
    "tags": [
     "student",
     "written"
    ]
   },
   "outputs": [
    {
     "data": {
      "text/markdown": [
       "\n",
       "\n",
       "There are 15429 occurences of routine and 1 occurence of complaint. This means that most of the \n",
       "data are rountine inspections, but one of them was due to a complaint. In further analysis we\n",
       "should take note of this entry and consider it to potentially be an outlier.\n",
       "\n"
      ],
      "text/plain": [
       "<IPython.core.display.Markdown object>"
      ]
     },
     "metadata": {},
     "output_type": "display_data"
    }
   ],
   "source": [
    "q5b_answer = r\"\"\"\n",
    "\n",
    "There are 15429 occurences of routine and 1 occurence of complaint. This means that most of the \n",
    "data are rountine inspections, but one of them was due to a complaint. In further analysis we\n",
    "should take note of this entry and consider it to potentially be an outlier.\n",
    "\n",
    "\"\"\"\n",
    "\n",
    "display(Markdown(q5b_answer))"
   ]
  },
  {
   "cell_type": "markdown",
   "metadata": {},
   "source": [
    "#### Question 5c\n",
    "\n",
    "Since the data was stored in a .csv file, the dates are formatted as strings such as `20160503`. Once we read in the data, we would like to have dates in an appropriate format for analsysis. Add a new column called `new_date` which formats the `date` into a datetime object. Then add a column called `year` with only the year.\n",
    "\n",
    "*Hint: You'll want to use the `pd.datetime` functionality at some point.*"
   ]
  },
  {
   "cell_type": "code",
   "execution_count": 109,
   "metadata": {
    "tags": [
     "student"
    ]
   },
   "outputs": [
    {
     "data": {
      "text/html": [
       "<div>\n",
       "<style>\n",
       "    .dataframe thead tr:only-child th {\n",
       "        text-align: right;\n",
       "    }\n",
       "\n",
       "    .dataframe thead th {\n",
       "        text-align: left;\n",
       "    }\n",
       "\n",
       "    .dataframe tbody tr th {\n",
       "        vertical-align: top;\n",
       "    }\n",
       "</style>\n",
       "<table border=\"1\" class=\"dataframe\">\n",
       "  <thead>\n",
       "    <tr style=\"text-align: right;\">\n",
       "      <th></th>\n",
       "      <th>business_id</th>\n",
       "      <th>score</th>\n",
       "      <th>date</th>\n",
       "      <th>type</th>\n",
       "      <th>new_date</th>\n",
       "      <th>year</th>\n",
       "    </tr>\n",
       "  </thead>\n",
       "  <tbody>\n",
       "    <tr>\n",
       "      <th>0</th>\n",
       "      <td>10</td>\n",
       "      <td>82</td>\n",
       "      <td>20160503</td>\n",
       "      <td>routine</td>\n",
       "      <td>2016-05-03</td>\n",
       "      <td>2016</td>\n",
       "    </tr>\n",
       "    <tr>\n",
       "      <th>1</th>\n",
       "      <td>10</td>\n",
       "      <td>94</td>\n",
       "      <td>20140729</td>\n",
       "      <td>routine</td>\n",
       "      <td>2014-07-29</td>\n",
       "      <td>2014</td>\n",
       "    </tr>\n",
       "    <tr>\n",
       "      <th>2</th>\n",
       "      <td>10</td>\n",
       "      <td>92</td>\n",
       "      <td>20140114</td>\n",
       "      <td>routine</td>\n",
       "      <td>2014-01-14</td>\n",
       "      <td>2014</td>\n",
       "    </tr>\n",
       "    <tr>\n",
       "      <th>3</th>\n",
       "      <td>19</td>\n",
       "      <td>94</td>\n",
       "      <td>20160513</td>\n",
       "      <td>routine</td>\n",
       "      <td>2016-05-13</td>\n",
       "      <td>2016</td>\n",
       "    </tr>\n",
       "    <tr>\n",
       "      <th>4</th>\n",
       "      <td>19</td>\n",
       "      <td>94</td>\n",
       "      <td>20141110</td>\n",
       "      <td>routine</td>\n",
       "      <td>2014-11-10</td>\n",
       "      <td>2014</td>\n",
       "    </tr>\n",
       "    <tr>\n",
       "      <th>5</th>\n",
       "      <td>19</td>\n",
       "      <td>94</td>\n",
       "      <td>20140214</td>\n",
       "      <td>routine</td>\n",
       "      <td>2014-02-14</td>\n",
       "      <td>2014</td>\n",
       "    </tr>\n",
       "    <tr>\n",
       "      <th>6</th>\n",
       "      <td>24</td>\n",
       "      <td>98</td>\n",
       "      <td>20161005</td>\n",
       "      <td>routine</td>\n",
       "      <td>2016-10-05</td>\n",
       "      <td>2016</td>\n",
       "    </tr>\n",
       "    <tr>\n",
       "      <th>7</th>\n",
       "      <td>24</td>\n",
       "      <td>96</td>\n",
       "      <td>20160311</td>\n",
       "      <td>routine</td>\n",
       "      <td>2016-03-11</td>\n",
       "      <td>2016</td>\n",
       "    </tr>\n",
       "    <tr>\n",
       "      <th>8</th>\n",
       "      <td>24</td>\n",
       "      <td>96</td>\n",
       "      <td>20141124</td>\n",
       "      <td>routine</td>\n",
       "      <td>2014-11-24</td>\n",
       "      <td>2014</td>\n",
       "    </tr>\n",
       "    <tr>\n",
       "      <th>9</th>\n",
       "      <td>24</td>\n",
       "      <td>96</td>\n",
       "      <td>20140612</td>\n",
       "      <td>routine</td>\n",
       "      <td>2014-06-12</td>\n",
       "      <td>2014</td>\n",
       "    </tr>\n",
       "    <tr>\n",
       "      <th>10</th>\n",
       "      <td>31</td>\n",
       "      <td>84</td>\n",
       "      <td>20160816</td>\n",
       "      <td>routine</td>\n",
       "      <td>2016-08-16</td>\n",
       "      <td>2016</td>\n",
       "    </tr>\n",
       "    <tr>\n",
       "      <th>11</th>\n",
       "      <td>31</td>\n",
       "      <td>98</td>\n",
       "      <td>20151204</td>\n",
       "      <td>routine</td>\n",
       "      <td>2015-12-04</td>\n",
       "      <td>2015</td>\n",
       "    </tr>\n",
       "    <tr>\n",
       "      <th>12</th>\n",
       "      <td>31</td>\n",
       "      <td>100</td>\n",
       "      <td>20140908</td>\n",
       "      <td>routine</td>\n",
       "      <td>2014-09-08</td>\n",
       "      <td>2014</td>\n",
       "    </tr>\n",
       "    <tr>\n",
       "      <th>13</th>\n",
       "      <td>45</td>\n",
       "      <td>84</td>\n",
       "      <td>20160614</td>\n",
       "      <td>routine</td>\n",
       "      <td>2016-06-14</td>\n",
       "      <td>2016</td>\n",
       "    </tr>\n",
       "    <tr>\n",
       "      <th>14</th>\n",
       "      <td>45</td>\n",
       "      <td>78</td>\n",
       "      <td>20160104</td>\n",
       "      <td>routine</td>\n",
       "      <td>2016-01-04</td>\n",
       "      <td>2016</td>\n",
       "    </tr>\n",
       "    <tr>\n",
       "      <th>15</th>\n",
       "      <td>45</td>\n",
       "      <td>94</td>\n",
       "      <td>20140909</td>\n",
       "      <td>routine</td>\n",
       "      <td>2014-09-09</td>\n",
       "      <td>2014</td>\n",
       "    </tr>\n",
       "    <tr>\n",
       "      <th>16</th>\n",
       "      <td>48</td>\n",
       "      <td>94</td>\n",
       "      <td>20160630</td>\n",
       "      <td>routine</td>\n",
       "      <td>2016-06-30</td>\n",
       "      <td>2016</td>\n",
       "    </tr>\n",
       "    <tr>\n",
       "      <th>17</th>\n",
       "      <td>48</td>\n",
       "      <td>92</td>\n",
       "      <td>20140523</td>\n",
       "      <td>routine</td>\n",
       "      <td>2014-05-23</td>\n",
       "      <td>2014</td>\n",
       "    </tr>\n",
       "    <tr>\n",
       "      <th>18</th>\n",
       "      <td>50</td>\n",
       "      <td>80</td>\n",
       "      <td>20160614</td>\n",
       "      <td>routine</td>\n",
       "      <td>2016-06-14</td>\n",
       "      <td>2016</td>\n",
       "    </tr>\n",
       "    <tr>\n",
       "      <th>19</th>\n",
       "      <td>50</td>\n",
       "      <td>100</td>\n",
       "      <td>20140402</td>\n",
       "      <td>routine</td>\n",
       "      <td>2014-04-02</td>\n",
       "      <td>2014</td>\n",
       "    </tr>\n",
       "    <tr>\n",
       "      <th>20</th>\n",
       "      <td>54</td>\n",
       "      <td>100</td>\n",
       "      <td>20150526</td>\n",
       "      <td>routine</td>\n",
       "      <td>2015-05-26</td>\n",
       "      <td>2015</td>\n",
       "    </tr>\n",
       "    <tr>\n",
       "      <th>21</th>\n",
       "      <td>54</td>\n",
       "      <td>92</td>\n",
       "      <td>20140325</td>\n",
       "      <td>routine</td>\n",
       "      <td>2014-03-25</td>\n",
       "      <td>2014</td>\n",
       "    </tr>\n",
       "    <tr>\n",
       "      <th>22</th>\n",
       "      <td>56</td>\n",
       "      <td>90</td>\n",
       "      <td>20160802</td>\n",
       "      <td>routine</td>\n",
       "      <td>2016-08-02</td>\n",
       "      <td>2016</td>\n",
       "    </tr>\n",
       "    <tr>\n",
       "      <th>23</th>\n",
       "      <td>56</td>\n",
       "      <td>88</td>\n",
       "      <td>20151222</td>\n",
       "      <td>routine</td>\n",
       "      <td>2015-12-22</td>\n",
       "      <td>2015</td>\n",
       "    </tr>\n",
       "    <tr>\n",
       "      <th>24</th>\n",
       "      <td>56</td>\n",
       "      <td>98</td>\n",
       "      <td>20141117</td>\n",
       "      <td>routine</td>\n",
       "      <td>2014-11-17</td>\n",
       "      <td>2014</td>\n",
       "    </tr>\n",
       "    <tr>\n",
       "      <th>25</th>\n",
       "      <td>56</td>\n",
       "      <td>100</td>\n",
       "      <td>20140423</td>\n",
       "      <td>routine</td>\n",
       "      <td>2014-04-23</td>\n",
       "      <td>2014</td>\n",
       "    </tr>\n",
       "    <tr>\n",
       "      <th>26</th>\n",
       "      <td>58</td>\n",
       "      <td>73</td>\n",
       "      <td>20160407</td>\n",
       "      <td>routine</td>\n",
       "      <td>2016-04-07</td>\n",
       "      <td>2016</td>\n",
       "    </tr>\n",
       "    <tr>\n",
       "      <th>27</th>\n",
       "      <td>58</td>\n",
       "      <td>78</td>\n",
       "      <td>20140725</td>\n",
       "      <td>routine</td>\n",
       "      <td>2014-07-25</td>\n",
       "      <td>2014</td>\n",
       "    </tr>\n",
       "    <tr>\n",
       "      <th>28</th>\n",
       "      <td>61</td>\n",
       "      <td>94</td>\n",
       "      <td>20160708</td>\n",
       "      <td>routine</td>\n",
       "      <td>2016-07-08</td>\n",
       "      <td>2016</td>\n",
       "    </tr>\n",
       "    <tr>\n",
       "      <th>29</th>\n",
       "      <td>61</td>\n",
       "      <td>92</td>\n",
       "      <td>20150827</td>\n",
       "      <td>routine</td>\n",
       "      <td>2015-08-27</td>\n",
       "      <td>2015</td>\n",
       "    </tr>\n",
       "    <tr>\n",
       "      <th>...</th>\n",
       "      <td>...</td>\n",
       "      <td>...</td>\n",
       "      <td>...</td>\n",
       "      <td>...</td>\n",
       "      <td>...</td>\n",
       "      <td>...</td>\n",
       "    </tr>\n",
       "    <tr>\n",
       "      <th>15400</th>\n",
       "      <td>88792</td>\n",
       "      <td>100</td>\n",
       "      <td>20160817</td>\n",
       "      <td>routine</td>\n",
       "      <td>2016-08-17</td>\n",
       "      <td>2016</td>\n",
       "    </tr>\n",
       "    <tr>\n",
       "      <th>15401</th>\n",
       "      <td>88799</td>\n",
       "      <td>86</td>\n",
       "      <td>20160819</td>\n",
       "      <td>routine</td>\n",
       "      <td>2016-08-19</td>\n",
       "      <td>2016</td>\n",
       "    </tr>\n",
       "    <tr>\n",
       "      <th>15402</th>\n",
       "      <td>88829</td>\n",
       "      <td>100</td>\n",
       "      <td>20161009</td>\n",
       "      <td>routine</td>\n",
       "      <td>2016-10-09</td>\n",
       "      <td>2016</td>\n",
       "    </tr>\n",
       "    <tr>\n",
       "      <th>15403</th>\n",
       "      <td>88840</td>\n",
       "      <td>92</td>\n",
       "      <td>20161013</td>\n",
       "      <td>routine</td>\n",
       "      <td>2016-10-13</td>\n",
       "      <td>2016</td>\n",
       "    </tr>\n",
       "    <tr>\n",
       "      <th>15404</th>\n",
       "      <td>88873</td>\n",
       "      <td>100</td>\n",
       "      <td>20161018</td>\n",
       "      <td>routine</td>\n",
       "      <td>2016-10-18</td>\n",
       "      <td>2016</td>\n",
       "    </tr>\n",
       "    <tr>\n",
       "      <th>15405</th>\n",
       "      <td>88878</td>\n",
       "      <td>94</td>\n",
       "      <td>20160819</td>\n",
       "      <td>routine</td>\n",
       "      <td>2016-08-19</td>\n",
       "      <td>2016</td>\n",
       "    </tr>\n",
       "    <tr>\n",
       "      <th>15406</th>\n",
       "      <td>88899</td>\n",
       "      <td>86</td>\n",
       "      <td>20160909</td>\n",
       "      <td>routine</td>\n",
       "      <td>2016-09-09</td>\n",
       "      <td>2016</td>\n",
       "    </tr>\n",
       "    <tr>\n",
       "      <th>15407</th>\n",
       "      <td>88915</td>\n",
       "      <td>90</td>\n",
       "      <td>20160831</td>\n",
       "      <td>routine</td>\n",
       "      <td>2016-08-31</td>\n",
       "      <td>2016</td>\n",
       "    </tr>\n",
       "    <tr>\n",
       "      <th>15408</th>\n",
       "      <td>88932</td>\n",
       "      <td>80</td>\n",
       "      <td>20161223</td>\n",
       "      <td>routine</td>\n",
       "      <td>2016-12-23</td>\n",
       "      <td>2016</td>\n",
       "    </tr>\n",
       "    <tr>\n",
       "      <th>15409</th>\n",
       "      <td>88954</td>\n",
       "      <td>100</td>\n",
       "      <td>20160829</td>\n",
       "      <td>routine</td>\n",
       "      <td>2016-08-29</td>\n",
       "      <td>2016</td>\n",
       "    </tr>\n",
       "    <tr>\n",
       "      <th>15410</th>\n",
       "      <td>89070</td>\n",
       "      <td>88</td>\n",
       "      <td>20161221</td>\n",
       "      <td>routine</td>\n",
       "      <td>2016-12-21</td>\n",
       "      <td>2016</td>\n",
       "    </tr>\n",
       "    <tr>\n",
       "      <th>15411</th>\n",
       "      <td>89072</td>\n",
       "      <td>90</td>\n",
       "      <td>20160922</td>\n",
       "      <td>routine</td>\n",
       "      <td>2016-09-22</td>\n",
       "      <td>2016</td>\n",
       "    </tr>\n",
       "    <tr>\n",
       "      <th>15412</th>\n",
       "      <td>89111</td>\n",
       "      <td>90</td>\n",
       "      <td>20161019</td>\n",
       "      <td>routine</td>\n",
       "      <td>2016-10-19</td>\n",
       "      <td>2016</td>\n",
       "    </tr>\n",
       "    <tr>\n",
       "      <th>15413</th>\n",
       "      <td>89191</td>\n",
       "      <td>94</td>\n",
       "      <td>20161027</td>\n",
       "      <td>routine</td>\n",
       "      <td>2016-10-27</td>\n",
       "      <td>2016</td>\n",
       "    </tr>\n",
       "    <tr>\n",
       "      <th>15414</th>\n",
       "      <td>89198</td>\n",
       "      <td>100</td>\n",
       "      <td>20160912</td>\n",
       "      <td>routine</td>\n",
       "      <td>2016-09-12</td>\n",
       "      <td>2016</td>\n",
       "    </tr>\n",
       "    <tr>\n",
       "      <th>15415</th>\n",
       "      <td>89199</td>\n",
       "      <td>100</td>\n",
       "      <td>20160912</td>\n",
       "      <td>routine</td>\n",
       "      <td>2016-09-12</td>\n",
       "      <td>2016</td>\n",
       "    </tr>\n",
       "    <tr>\n",
       "      <th>15416</th>\n",
       "      <td>89200</td>\n",
       "      <td>100</td>\n",
       "      <td>20160912</td>\n",
       "      <td>routine</td>\n",
       "      <td>2016-09-12</td>\n",
       "      <td>2016</td>\n",
       "    </tr>\n",
       "    <tr>\n",
       "      <th>15417</th>\n",
       "      <td>89201</td>\n",
       "      <td>96</td>\n",
       "      <td>20161011</td>\n",
       "      <td>routine</td>\n",
       "      <td>2016-10-11</td>\n",
       "      <td>2016</td>\n",
       "    </tr>\n",
       "    <tr>\n",
       "      <th>15418</th>\n",
       "      <td>89204</td>\n",
       "      <td>100</td>\n",
       "      <td>20160912</td>\n",
       "      <td>routine</td>\n",
       "      <td>2016-09-12</td>\n",
       "      <td>2016</td>\n",
       "    </tr>\n",
       "    <tr>\n",
       "      <th>15419</th>\n",
       "      <td>89305</td>\n",
       "      <td>92</td>\n",
       "      <td>20160930</td>\n",
       "      <td>routine</td>\n",
       "      <td>2016-09-30</td>\n",
       "      <td>2016</td>\n",
       "    </tr>\n",
       "    <tr>\n",
       "      <th>15420</th>\n",
       "      <td>89328</td>\n",
       "      <td>84</td>\n",
       "      <td>20161206</td>\n",
       "      <td>routine</td>\n",
       "      <td>2016-12-06</td>\n",
       "      <td>2016</td>\n",
       "    </tr>\n",
       "    <tr>\n",
       "      <th>15421</th>\n",
       "      <td>89453</td>\n",
       "      <td>90</td>\n",
       "      <td>20161019</td>\n",
       "      <td>routine</td>\n",
       "      <td>2016-10-19</td>\n",
       "      <td>2016</td>\n",
       "    </tr>\n",
       "    <tr>\n",
       "      <th>15422</th>\n",
       "      <td>89462</td>\n",
       "      <td>76</td>\n",
       "      <td>20160929</td>\n",
       "      <td>routine</td>\n",
       "      <td>2016-09-29</td>\n",
       "      <td>2016</td>\n",
       "    </tr>\n",
       "    <tr>\n",
       "      <th>15423</th>\n",
       "      <td>89475</td>\n",
       "      <td>96</td>\n",
       "      <td>20161130</td>\n",
       "      <td>routine</td>\n",
       "      <td>2016-11-30</td>\n",
       "      <td>2016</td>\n",
       "    </tr>\n",
       "    <tr>\n",
       "      <th>15424</th>\n",
       "      <td>89495</td>\n",
       "      <td>100</td>\n",
       "      <td>20161008</td>\n",
       "      <td>routine</td>\n",
       "      <td>2016-10-08</td>\n",
       "      <td>2016</td>\n",
       "    </tr>\n",
       "    <tr>\n",
       "      <th>15425</th>\n",
       "      <td>89515</td>\n",
       "      <td>98</td>\n",
       "      <td>20161103</td>\n",
       "      <td>routine</td>\n",
       "      <td>2016-11-03</td>\n",
       "      <td>2016</td>\n",
       "    </tr>\n",
       "    <tr>\n",
       "      <th>15426</th>\n",
       "      <td>89701</td>\n",
       "      <td>100</td>\n",
       "      <td>20161206</td>\n",
       "      <td>routine</td>\n",
       "      <td>2016-12-06</td>\n",
       "      <td>2016</td>\n",
       "    </tr>\n",
       "    <tr>\n",
       "      <th>15427</th>\n",
       "      <td>89790</td>\n",
       "      <td>96</td>\n",
       "      <td>20161129</td>\n",
       "      <td>routine</td>\n",
       "      <td>2016-11-29</td>\n",
       "      <td>2016</td>\n",
       "    </tr>\n",
       "    <tr>\n",
       "      <th>15428</th>\n",
       "      <td>89803</td>\n",
       "      <td>100</td>\n",
       "      <td>20161215</td>\n",
       "      <td>routine</td>\n",
       "      <td>2016-12-15</td>\n",
       "      <td>2016</td>\n",
       "    </tr>\n",
       "    <tr>\n",
       "      <th>15429</th>\n",
       "      <td>89900</td>\n",
       "      <td>93</td>\n",
       "      <td>20161206</td>\n",
       "      <td>routine</td>\n",
       "      <td>2016-12-06</td>\n",
       "      <td>2016</td>\n",
       "    </tr>\n",
       "  </tbody>\n",
       "</table>\n",
       "<p>15430 rows × 6 columns</p>\n",
       "</div>"
      ],
      "text/plain": [
       "       business_id  score      date     type   new_date  year\n",
       "0               10     82  20160503  routine 2016-05-03  2016\n",
       "1               10     94  20140729  routine 2014-07-29  2014\n",
       "2               10     92  20140114  routine 2014-01-14  2014\n",
       "3               19     94  20160513  routine 2016-05-13  2016\n",
       "4               19     94  20141110  routine 2014-11-10  2014\n",
       "5               19     94  20140214  routine 2014-02-14  2014\n",
       "6               24     98  20161005  routine 2016-10-05  2016\n",
       "7               24     96  20160311  routine 2016-03-11  2016\n",
       "8               24     96  20141124  routine 2014-11-24  2014\n",
       "9               24     96  20140612  routine 2014-06-12  2014\n",
       "10              31     84  20160816  routine 2016-08-16  2016\n",
       "11              31     98  20151204  routine 2015-12-04  2015\n",
       "12              31    100  20140908  routine 2014-09-08  2014\n",
       "13              45     84  20160614  routine 2016-06-14  2016\n",
       "14              45     78  20160104  routine 2016-01-04  2016\n",
       "15              45     94  20140909  routine 2014-09-09  2014\n",
       "16              48     94  20160630  routine 2016-06-30  2016\n",
       "17              48     92  20140523  routine 2014-05-23  2014\n",
       "18              50     80  20160614  routine 2016-06-14  2016\n",
       "19              50    100  20140402  routine 2014-04-02  2014\n",
       "20              54    100  20150526  routine 2015-05-26  2015\n",
       "21              54     92  20140325  routine 2014-03-25  2014\n",
       "22              56     90  20160802  routine 2016-08-02  2016\n",
       "23              56     88  20151222  routine 2015-12-22  2015\n",
       "24              56     98  20141117  routine 2014-11-17  2014\n",
       "25              56    100  20140423  routine 2014-04-23  2014\n",
       "26              58     73  20160407  routine 2016-04-07  2016\n",
       "27              58     78  20140725  routine 2014-07-25  2014\n",
       "28              61     94  20160708  routine 2016-07-08  2016\n",
       "29              61     92  20150827  routine 2015-08-27  2015\n",
       "...            ...    ...       ...      ...        ...   ...\n",
       "15400        88792    100  20160817  routine 2016-08-17  2016\n",
       "15401        88799     86  20160819  routine 2016-08-19  2016\n",
       "15402        88829    100  20161009  routine 2016-10-09  2016\n",
       "15403        88840     92  20161013  routine 2016-10-13  2016\n",
       "15404        88873    100  20161018  routine 2016-10-18  2016\n",
       "15405        88878     94  20160819  routine 2016-08-19  2016\n",
       "15406        88899     86  20160909  routine 2016-09-09  2016\n",
       "15407        88915     90  20160831  routine 2016-08-31  2016\n",
       "15408        88932     80  20161223  routine 2016-12-23  2016\n",
       "15409        88954    100  20160829  routine 2016-08-29  2016\n",
       "15410        89070     88  20161221  routine 2016-12-21  2016\n",
       "15411        89072     90  20160922  routine 2016-09-22  2016\n",
       "15412        89111     90  20161019  routine 2016-10-19  2016\n",
       "15413        89191     94  20161027  routine 2016-10-27  2016\n",
       "15414        89198    100  20160912  routine 2016-09-12  2016\n",
       "15415        89199    100  20160912  routine 2016-09-12  2016\n",
       "15416        89200    100  20160912  routine 2016-09-12  2016\n",
       "15417        89201     96  20161011  routine 2016-10-11  2016\n",
       "15418        89204    100  20160912  routine 2016-09-12  2016\n",
       "15419        89305     92  20160930  routine 2016-09-30  2016\n",
       "15420        89328     84  20161206  routine 2016-12-06  2016\n",
       "15421        89453     90  20161019  routine 2016-10-19  2016\n",
       "15422        89462     76  20160929  routine 2016-09-29  2016\n",
       "15423        89475     96  20161130  routine 2016-11-30  2016\n",
       "15424        89495    100  20161008  routine 2016-10-08  2016\n",
       "15425        89515     98  20161103  routine 2016-11-03  2016\n",
       "15426        89701    100  20161206  routine 2016-12-06  2016\n",
       "15427        89790     96  20161129  routine 2016-11-29  2016\n",
       "15428        89803    100  20161215  routine 2016-12-15  2016\n",
       "15429        89900     93  20161206  routine 2016-12-06  2016\n",
       "\n",
       "[15430 rows x 6 columns]"
      ]
     },
     "execution_count": 109,
     "metadata": {},
     "output_type": "execute_result"
    }
   ],
   "source": [
    "ins['new_date'] = pd.to_datetime(ins[\"date\"], format = '%Y%m%d')\n",
    "ins['year']     = pd.to_datetime(ins[\"date\"], format = '%Y%m%d').dt.year\n",
    "ins"
   ]
  },
  {
   "cell_type": "code",
   "execution_count": 110,
   "metadata": {},
   "outputs": [
    {
     "name": "stdout",
     "output_type": "stream",
     "text": [
      "~~~~~~~~~~~~~~~~~~~~~~~~~~~~~~~~~~~~~~~~~~~~~~~~~~~~~~~~~~~~~~~~~~~~~\n",
      "Running tests\n",
      "\n",
      "---------------------------------------------------------------------\n",
      "Test summary\n",
      "    Passed: 1\n",
      "    Failed: 0\n",
      "[ooooooooook] 100.0% passed\n",
      "\n"
     ]
    },
    {
     "data": {
      "application/javascript": [
       "IPython.notebook.save_checkpoint();"
      ],
      "text/plain": [
       "<IPython.core.display.Javascript object>"
      ]
     },
     "metadata": {},
     "output_type": "display_data"
    },
    {
     "data": {
      "application/javascript": [
       "IPython.notebook.save_notebook();"
      ],
      "text/plain": [
       "<IPython.core.display.Javascript object>"
      ]
     },
     "metadata": {},
     "output_type": "display_data"
    },
    {
     "name": "stdout",
     "output_type": "stream",
     "text": [
      "Saving notebook... Could not save your notebook. Make sure your notebook is saved before sending it to OK!\n",
      "Backup... 100% complete\n",
      "Backup successful for user: dcroce@berkeley.edu\n",
      "URL: https://okpy.org/cal/ds100/fa17/hw2/backups/5yz4JR\n",
      "NOTE: this is only a backup. To submit your assignment, use:\n",
      "\tpython3 ok --submit\n",
      "\n"
     ]
    }
   ],
   "source": [
    "_ = ok.grade('q05c')\n",
    "_ = ok.backup()"
   ]
  },
  {
   "cell_type": "markdown",
   "metadata": {
    "tags": [
     "written"
    ]
   },
   "source": [
    "#### Question 5d\n",
    "\n",
    "What range of years is covered in this data set? Are there roughly same number of inspections each year?"
   ]
  },
  {
   "cell_type": "code",
   "execution_count": 111,
   "metadata": {
    "tags": [
     "student",
     "written"
    ]
   },
   "outputs": [
    {
     "data": {
      "text/markdown": [
       "\n",
       "\n",
       "Years are covered at 2013 to 2016. The number of inspections each year varies widely.\n",
       "\n"
      ],
      "text/plain": [
       "<IPython.core.display.Markdown object>"
      ]
     },
     "metadata": {},
     "output_type": "display_data"
    },
    {
     "data": {
      "text/html": [
       "<div>\n",
       "<style>\n",
       "    .dataframe thead tr:only-child th {\n",
       "        text-align: right;\n",
       "    }\n",
       "\n",
       "    .dataframe thead th {\n",
       "        text-align: left;\n",
       "    }\n",
       "\n",
       "    .dataframe tbody tr th {\n",
       "        vertical-align: top;\n",
       "    }\n",
       "</style>\n",
       "<table border=\"1\" class=\"dataframe\">\n",
       "  <thead>\n",
       "    <tr style=\"text-align: right;\">\n",
       "      <th></th>\n",
       "      <th>business_id</th>\n",
       "      <th>score</th>\n",
       "      <th>date</th>\n",
       "      <th>type</th>\n",
       "      <th>new_date</th>\n",
       "    </tr>\n",
       "    <tr>\n",
       "      <th>year</th>\n",
       "      <th></th>\n",
       "      <th></th>\n",
       "      <th></th>\n",
       "      <th></th>\n",
       "      <th></th>\n",
       "    </tr>\n",
       "  </thead>\n",
       "  <tbody>\n",
       "    <tr>\n",
       "      <th>2013</th>\n",
       "      <td>38</td>\n",
       "      <td>38</td>\n",
       "      <td>38</td>\n",
       "      <td>38</td>\n",
       "      <td>38</td>\n",
       "    </tr>\n",
       "    <tr>\n",
       "      <th>2014</th>\n",
       "      <td>5629</td>\n",
       "      <td>5629</td>\n",
       "      <td>5629</td>\n",
       "      <td>5629</td>\n",
       "      <td>5629</td>\n",
       "    </tr>\n",
       "    <tr>\n",
       "      <th>2015</th>\n",
       "      <td>3923</td>\n",
       "      <td>3923</td>\n",
       "      <td>3923</td>\n",
       "      <td>3923</td>\n",
       "      <td>3923</td>\n",
       "    </tr>\n",
       "    <tr>\n",
       "      <th>2016</th>\n",
       "      <td>5840</td>\n",
       "      <td>5840</td>\n",
       "      <td>5840</td>\n",
       "      <td>5840</td>\n",
       "      <td>5840</td>\n",
       "    </tr>\n",
       "  </tbody>\n",
       "</table>\n",
       "</div>"
      ],
      "text/plain": [
       "      business_id  score  date  type  new_date\n",
       "year                                          \n",
       "2013           38     38    38    38        38\n",
       "2014         5629   5629  5629  5629      5629\n",
       "2015         3923   3923  3923  3923      3923\n",
       "2016         5840   5840  5840  5840      5840"
      ]
     },
     "execution_count": 111,
     "metadata": {},
     "output_type": "execute_result"
    }
   ],
   "source": [
    "q5d_answer = r\"\"\"\n",
    "\n",
    "Years are covered at 2013 to 2016. The number of inspections each year varies widely.\n",
    "\n",
    "\"\"\"\n",
    "\n",
    "display(Markdown(q5d_answer))\n",
    "\n",
    "ins.groupby([\"year\"]).count()"
   ]
  },
  {
   "cell_type": "markdown",
   "metadata": {},
   "source": [
    "Let's examine only the inspections for one year, 2016. This puts businesses on a more equal footing because [inspection guidelines](https://www.sfdph.org/dph/eh/Food/Inspections.asp) generally refer to how many inspections should occur in a given year."
   ]
  },
  {
   "cell_type": "code",
   "execution_count": 112,
   "metadata": {
    "collapsed": true
   },
   "outputs": [],
   "source": [
    "ins2016 = ins[ins['year']==2016]"
   ]
  },
  {
   "cell_type": "markdown",
   "metadata": {},
   "source": [
    "## Explore inspection score\n",
    "\n",
    "### Question 6\n",
    "\n",
    "#### Question 6a\n",
    "What does the distribution of inspection score for 2016 look like? The inspection scores appear to be integer values. The discreteness of this variable means that we can use a barplot to visualize the distribution of the inspection score. Find the counts of the number of inspections in 2016 for each score. Then, make a bar plot of these counts."
   ]
  },
  {
   "cell_type": "code",
   "execution_count": 113,
   "metadata": {
    "tags": [
     "student"
    ]
   },
   "outputs": [
    {
     "data": {
      "image/png": "[encoded data removed]",
      "text/plain": [
       "<matplotlib.figure.Figure at 0x115468400>"
      ]
     },
     "metadata": {},
     "output_type": "display_data"
    }
   ],
   "source": [
    "scoreCts = ins2016.groupby([\"score\"])[\"date\"].count().reset_index()\n",
    "\n",
    "plt.bar(scoreCts[\"score\"],scoreCts[\"date\"])\n",
    "plt.show()\n"
   ]
  },
  {
   "cell_type": "markdown",
   "metadata": {
    "tags": [
     "written"
    ]
   },
   "source": [
    "#### Question 6b\n",
    "\n",
    "Describe the qualities of the distribution of the inspections scores. Consider the mode(s), symmetry, tails, gaps, and anamolous values. Are there any unusual features of this distribution? What do your observation imply about the scores?"
   ]
  },
  {
   "cell_type": "code",
   "execution_count": 114,
   "metadata": {
    "tags": [
     "student",
     "written"
    ]
   },
   "outputs": [
    {
     "data": {
      "text/markdown": [
       "\n",
       "\n",
       "The mode is 100. There is no symetery but in general there are a lot\n",
       "of values near 100 and it tails off as it approaches 52 (the min). There are gaps in the 90s\n",
       "(99,97,and 95) which implies there is no way to score certain values perhaps due to rubric not\n",
       "having small odd values. This implies that the scores are ordinal since the scale of scores is\n",
       "not linear (ie difference between 100 and 96 is not equivalent to that of 70 and 66 based on\n",
       "the distribution.)\n",
       "\n"
      ],
      "text/plain": [
       "<IPython.core.display.Markdown object>"
      ]
     },
     "metadata": {},
     "output_type": "display_data"
    }
   ],
   "source": [
    "q6b_answer = r\"\"\"\n",
    "\n",
    "The mode is 100. There is no symetery but in general there are a lot\n",
    "of values near 100 and it tails off as it approaches 52 (the min). There are gaps in the 90s\n",
    "(99,97,and 95) which implies there is no way to score certain values perhaps due to rubric not\n",
    "having small odd values. This implies that the scores are ordinal since the scale of scores is\n",
    "not linear (ie difference between 100 and 96 is not equivalent to that of 70 and 66 based on\n",
    "the distribution.)\n",
    "\n",
    "\"\"\"\n",
    "\n",
    "display(Markdown(q6b_answer))"
   ]
  },
  {
   "cell_type": "markdown",
   "metadata": {},
   "source": [
    "#### Question 6c\n",
    "\n",
    "In assessing the granularity, we want to determine if there is one inspection per business per year. How many restaurants had two inspections? Three or more inspections? Create a dict mapping the number of inspections to the number of business ids with that many inspections.\n",
    "\n",
    "*Hint: pandas Series have a to_dict() method.*"
   ]
  },
  {
   "cell_type": "code",
   "execution_count": 115,
   "metadata": {
    "tags": [
     "student"
    ]
   },
   "outputs": [],
   "source": [
    "# .pivot_table(\n",
    "#     index = \"score\",\n",
    "#     columns = \"numbers_of_businesses\",\n",
    "#     values = \"business_id\",\n",
    "#     aggfunc = sum)\n",
    "\n",
    "numIns2numIDs = ins2016.groupby([\"business_id\"]).count().groupby([\"score\"]).count()[\"date\"].to_dict()\n"
   ]
  },
  {
   "cell_type": "code",
   "execution_count": 116,
   "metadata": {},
   "outputs": [
    {
     "name": "stdout",
     "output_type": "stream",
     "text": [
      "~~~~~~~~~~~~~~~~~~~~~~~~~~~~~~~~~~~~~~~~~~~~~~~~~~~~~~~~~~~~~~~~~~~~~\n",
      "Running tests\n",
      "\n",
      "---------------------------------------------------------------------\n",
      "Test summary\n",
      "    Passed: 1\n",
      "    Failed: 0\n",
      "[ooooooooook] 100.0% passed\n",
      "\n"
     ]
    },
    {
     "data": {
      "application/javascript": [
       "IPython.notebook.save_checkpoint();"
      ],
      "text/plain": [
       "<IPython.core.display.Javascript object>"
      ]
     },
     "metadata": {},
     "output_type": "display_data"
    },
    {
     "data": {
      "application/javascript": [
       "IPython.notebook.save_notebook();"
      ],
      "text/plain": [
       "<IPython.core.display.Javascript object>"
      ]
     },
     "metadata": {},
     "output_type": "display_data"
    },
    {
     "name": "stdout",
     "output_type": "stream",
     "text": [
      "Saving notebook... Saved 'hw2.ipynb'.\n",
      "Backup... 100% complete\n",
      "Backup successful for user: dcroce@berkeley.edu\n",
      "URL: https://okpy.org/cal/ds100/fa17/hw2/backups/73B0NA\n",
      "NOTE: this is only a backup. To submit your assignment, use:\n",
      "\tpython3 ok --submit\n",
      "\n"
     ]
    }
   ],
   "source": [
    "_ = ok.grade('q06c')\n",
    "_ = ok.backup()"
   ]
  },
  {
   "cell_type": "markdown",
   "metadata": {},
   "source": [
    "### Restaurants with multiple inspections\n",
    "\n",
    "### Question 7\n",
    "\n",
    "Some restaurants had 3 inspections in a calandar year, but not very many did. To examine the distribution of score among restaurants with two scores, we can look at the change in score from the first inspection.\n",
    "\n",
    "#### Question 7a\n",
    "\n",
    "What's the relationship between the first and second scores for the businesses with 2 inspections in a year? Do they typically improve?\n",
    "\n",
    "First, make a dataframe called, `scores_pairs_by_business`, indexed by business_id (containing only business with exactly 2 inspections in 2016).  This dataframe contains the field `score_pair` consisting of the score pairs ordered chronologically  `[first_score, second_score]`. \n",
    "\n",
    "Plot these scores. That is, make a scatter plot to display these pairs of scores. Include on the plot a reference line with slope 1. \n",
    "\n",
    "You may find the functions `sort_values`, `groupby`, `filter` and `agg` helpful, though not all necessary. \n",
    "\n",
    "The first few rows resulting table should look something like:\n",
    "\n",
    "<table border=\"1\" class=\"dataframe\">\n",
    "  <thead>\n",
    "    <tr style=\"text-align: right;\">\n",
    "      <th></th>\n",
    "      <th>score_pair</th>\n",
    "    </tr>\n",
    "    <tr>\n",
    "      <th>business_id</th>\n",
    "      <th></th>\n",
    "    </tr>\n",
    "  </thead>\n",
    "  <tbody>\n",
    "    <tr>\n",
    "      <th>24</th>\n",
    "      <td>[96, 98]</td>\n",
    "    </tr>\n",
    "    <tr>\n",
    "      <th>45</th>\n",
    "      <td>[78, 84]</td>\n",
    "    </tr>\n",
    "    <tr>\n",
    "      <th>66</th>\n",
    "      <td>[98, 100]</td>\n",
    "    </tr>\n",
    "    <tr>\n",
    "      <th>67</th>\n",
    "      <td>[87, 94]</td>\n",
    "    </tr>\n",
    "    <tr>\n",
    "      <th>76</th>\n",
    "      <td>[100, 98]</td>\n",
    "    </tr>\n",
    "  </tbody>\n",
    "</table>"
   ]
  },
  {
   "cell_type": "code",
   "execution_count": 117,
   "metadata": {
    "tags": [
     "student"
    ]
   },
   "outputs": [
    {
     "data": {
      "text/html": [
       "<div>\n",
       "<style>\n",
       "    .dataframe thead tr:only-child th {\n",
       "        text-align: right;\n",
       "    }\n",
       "\n",
       "    .dataframe thead th {\n",
       "        text-align: left;\n",
       "    }\n",
       "\n",
       "    .dataframe tbody tr th {\n",
       "        vertical-align: top;\n",
       "    }\n",
       "</style>\n",
       "<table border=\"1\" class=\"dataframe\">\n",
       "  <thead>\n",
       "    <tr style=\"text-align: right;\">\n",
       "      <th></th>\n",
       "      <th>score_pair</th>\n",
       "    </tr>\n",
       "    <tr>\n",
       "      <th>business_id</th>\n",
       "      <th></th>\n",
       "    </tr>\n",
       "  </thead>\n",
       "  <tbody>\n",
       "    <tr>\n",
       "      <th>24</th>\n",
       "      <td>[96, 98]</td>\n",
       "    </tr>\n",
       "    <tr>\n",
       "      <th>45</th>\n",
       "      <td>[78, 84]</td>\n",
       "    </tr>\n",
       "    <tr>\n",
       "      <th>66</th>\n",
       "      <td>[98, 100]</td>\n",
       "    </tr>\n",
       "    <tr>\n",
       "      <th>67</th>\n",
       "      <td>[87, 94]</td>\n",
       "    </tr>\n",
       "    <tr>\n",
       "      <th>76</th>\n",
       "      <td>[100, 98]</td>\n",
       "    </tr>\n",
       "  </tbody>\n",
       "</table>\n",
       "</div>"
      ],
      "text/plain": [
       "            score_pair\n",
       "business_id           \n",
       "24            [96, 98]\n",
       "45            [78, 84]\n",
       "66           [98, 100]\n",
       "67            [87, 94]\n",
       "76           [100, 98]"
      ]
     },
     "execution_count": 117,
     "metadata": {},
     "output_type": "execute_result"
    }
   ],
   "source": [
    "group1 = ins2016.groupby([\"business_id\"]).count()\n",
    "group2 = group1[group1[\"date\"] == 2].reset_index()\n",
    "group3 = ins2016[ins2016[\"business_id\"].isin(group2[\"business_id\"])].sort_values(by = \"new_date\")\n",
    "group4 = group3.groupby(\"business_id\").agg(lambda x: list(x))\n",
    "# #d = {'col1': ts1, 'col2': ts2}\n",
    "# #pd.DataFrame()\n",
    "# l = len(group4)\n",
    "# first_score = group4.iloc[::2][\"score\"]\n",
    "# second_score = group4.reset_index().drop([0], axis = 0).set_index(\"business_id\").iloc[::2][\"score\"]\n",
    "# #d = {\"first_score\", first_score.values, \"second_score\", second_score.values}\n",
    "# final = pd.concat([first_score, second_score], axis=1).rename(columns = {\"score\": \"first\"}).dropna()\n",
    "# final.columns.values[1] = 'second'\n",
    "# final\n",
    "group4 = group4[\"score\"].to_frame().rename(columns = {\"score\": \"score_pair\"})\n",
    "\n",
    "scores_pairs_by_business = group4\n",
    "scores_pairs_by_business.head()"
   ]
  },
  {
   "cell_type": "code",
   "execution_count": 118,
   "metadata": {},
   "outputs": [
    {
     "name": "stdout",
     "output_type": "stream",
     "text": [
      "~~~~~~~~~~~~~~~~~~~~~~~~~~~~~~~~~~~~~~~~~~~~~~~~~~~~~~~~~~~~~~~~~~~~~\n",
      "Running tests\n",
      "\n",
      "---------------------------------------------------------------------\n",
      "Test summary\n",
      "    Passed: 1\n",
      "    Failed: 0\n",
      "[ooooooooook] 100.0% passed\n",
      "\n"
     ]
    },
    {
     "data": {
      "application/javascript": [
       "IPython.notebook.save_checkpoint();"
      ],
      "text/plain": [
       "<IPython.core.display.Javascript object>"
      ]
     },
     "metadata": {},
     "output_type": "display_data"
    },
    {
     "data": {
      "application/javascript": [
       "IPython.notebook.save_notebook();"
      ],
      "text/plain": [
       "<IPython.core.display.Javascript object>"
      ]
     },
     "metadata": {},
     "output_type": "display_data"
    },
    {
     "name": "stdout",
     "output_type": "stream",
     "text": [
      "Saving notebook... Saved 'hw2.ipynb'.\n",
      "Backup... 100% complete\n",
      "Backup successful for user: dcroce@berkeley.edu\n",
      "URL: https://okpy.org/cal/ds100/fa17/hw2/backups/9rENR3\n",
      "NOTE: this is only a backup. To submit your assignment, use:\n",
      "\tpython3 ok --submit\n",
      "\n"
     ]
    }
   ],
   "source": [
    "_ = ok.grade('q07a')\n",
    "_ = ok.backup()"
   ]
  },
  {
   "cell_type": "code",
   "execution_count": 119,
   "metadata": {
    "tags": [
     "student",
     "written"
    ]
   },
   "outputs": [
    {
     "data": {
      "text/plain": [
       "[<matplotlib.lines.Line2D at 0x10f1b6588>]"
      ]
     },
     "execution_count": 119,
     "metadata": {},
     "output_type": "execute_result"
    },
    {
     "data": {
      "image/png": "[encoded data removed]",
      "text/plain": [
       "<matplotlib.figure.Figure at 0x10f1b6e80>"
      ]
     },
     "metadata": {},
     "output_type": "display_data"
    }
   ],
   "source": [
    "# Create scatter plot here.\n",
    "x1 = [x[0] for x in scores_pairs_by_business[\"score_pair\"]]\n",
    "y1 = [x[1] for x in scores_pairs_by_business[\"score_pair\"]]\n",
    "plt.scatter(x = x1, y = y1)\n",
    "plt.plot([60, 100], [60, 100], color='k', linestyle='-', linewidth=2)\n",
    "\n"
   ]
  },
  {
   "cell_type": "markdown",
   "metadata": {},
   "source": [
    "#### Question 7b\n",
    "\n",
    "Another way to compare the scores from the two inspections is to examine the difference in scores. Subtract the first score from the second in `scores_pairs_by_business`. Make a histogram of these differences in the scores. We might expect these differences to be positive, indicating an improvement from the first to the second inspection."
   ]
  },
  {
   "cell_type": "code",
   "execution_count": 120,
   "metadata": {
    "tags": [
     "student",
     "written"
    ]
   },
   "outputs": [
    {
     "data": {
      "text/plain": [
       "(array([   1.,    4.,    3.,    7.,    3.,    9.,   14.,   16.,   29.,\n",
       "          59.,   89.,  138.,  229.,  153.,  119.,   79.,   54.,   39.,\n",
       "          29.,   19.,   11.,    4.,    7.,    1.,    5.,    7.,    0.]),\n",
       " array([-25, -23, -21, -19, -17, -15, -13, -11,  -9,  -7,  -5,  -3,  -1,\n",
       "          1,   3,   5,   7,   9,  11,  13,  15,  17,  19,  21,  23,  25,\n",
       "         27,  29]),\n",
       " <a list of 27 Patch objects>)"
      ]
     },
     "execution_count": 120,
     "metadata": {},
     "output_type": "execute_result"
    },
    {
     "data": {
      "image/png": "[encoded data removed]",
      "text/plain": [
       "<matplotlib.figure.Figure at 0x11517c5c0>"
      ]
     },
     "metadata": {},
     "output_type": "display_data"
    }
   ],
   "source": [
    "# Create histogram here.\n",
    "new_scores = [x[1] - x[0] for x in scores_pairs_by_business[\"score_pair\"]]\n",
    "plt.hist(new_scores, bins = np.arange(-25,30,2))"
   ]
  },
  {
   "cell_type": "markdown",
   "metadata": {},
   "source": [
    "#### Question 7c\n",
    "\n",
    "If a restaurant's score improves from the first to the second inspection, what do you expect to see in the scatter plot that you made in 7a? What do you see?\n",
    "\n",
    "If a restaurant's score improves from the first to the second inspection, how would this be reflected in the histogram of the difference in the scores that you made in 7b? What do you see?"
   ]
  },
  {
   "cell_type": "code",
   "execution_count": 121,
   "metadata": {
    "tags": [
     "student",
     "written"
    ]
   },
   "outputs": [
    {
     "data": {
      "text/markdown": [
       "\n",
       "\n",
       "If a restaurant's score improves, the point corresponding to that restruarant would be above\n",
       "the line of slope 1. Not all restaurants improved, so many fall on both sides of the line in\n",
       "the scatter plot.\n",
       "If a restaurant's score improved, the restaurant would fall in a bin above 0 on the histogram.\n",
       "The histogram has a (mostly) normal distribution centered at zero meaning a similar number of\n",
       "restaurants lowered their scores as improved them. If most restaurants improved you'd expect to\n",
       "see a right skew distribution.\n",
       "\n"
      ],
      "text/plain": [
       "<IPython.core.display.Markdown object>"
      ]
     },
     "metadata": {},
     "output_type": "display_data"
    }
   ],
   "source": [
    "q7c_answer = r\"\"\"\n",
    "\n",
    "If a restaurant's score improves, the point corresponding to that restruarant would be above\n",
    "the line of slope 1. Not all restaurants improved, so many fall on both sides of the line in\n",
    "the scatter plot.\n",
    "If a restaurant's score improved, the restaurant would fall in a bin above 0 on the histogram.\n",
    "The histogram has a (mostly) normal distribution centered at zero meaning a similar number of\n",
    "restaurants lowered their scores as improved them. If most restaurants improved you'd expect to\n",
    "see a right skew distribution.\n",
    "\n",
    "\"\"\"\n",
    "\n",
    "display(Markdown(q7c_answer))"
   ]
  },
  {
   "cell_type": "markdown",
   "metadata": {},
   "source": [
    "## Summary of the inspections data\n",
    "\n",
    "What we have learned about the inspections data? What might be some next steps in our investigation? \n",
    "\n",
    "* We found that the records are at the inspection level and that we have inspections for multiple years.   \n",
    "* We also found that may restaurants have more than one inspection a year. In the future, we may want to roll some of the information about the inspections up to the business/restaurant level and join the inspection information with the business dataframe. For example, we could make maps of inspection scores for restaurants.\n",
    "* We also examined the relationship between the scores when a restaurant has multiple inspections in a year. Our findings were a bit counterintuitive and we warrant further investigation. It also makes sense to learn more about the inspection process to help us understand the connections between scores from multiple inspections. \n"
   ]
  },
  {
   "cell_type": "markdown",
   "metadata": {},
   "source": [
    "# Violations Data\n",
    "\n",
    "Lastly, we will explore the `vio` data set. As with the first two DataFreames, we want to determine the granularity of the data, the number of records and fields, and we want to investigate the fields (variables). "
   ]
  },
  {
   "cell_type": "markdown",
   "metadata": {},
   "source": [
    "### Question 8\n",
    "\n",
    "#### Question 8a\n",
    "\n",
    "How many records are in `vio`? What does this tell you about the granularity of `vio` in comparison to `bus` and `ins`? "
   ]
  },
  {
   "cell_type": "code",
   "execution_count": 122,
   "metadata": {
    "tags": [
     "student",
     "written"
    ]
   },
   "outputs": [
    {
     "data": {
      "text/markdown": [
       "\n",
       "\n",
       "There are 40936 records in vio. Compared to bus and ins, this means vio has more fine\n",
       "granularity since it has significantly more records.\n",
       "\n"
      ],
      "text/plain": [
       "<IPython.core.display.Markdown object>"
      ]
     },
     "metadata": {},
     "output_type": "display_data"
    },
    {
     "name": "stdout",
     "output_type": "stream",
     "text": [
      "40936\n",
      "6315\n",
      "15430\n"
     ]
    }
   ],
   "source": [
    "q8a_answer = r\"\"\"\n",
    "\n",
    "There are 40936 records in vio. Compared to bus and ins, this means vio has more fine\n",
    "granularity since it has significantly more records.\n",
    "\n",
    "\"\"\"\n",
    "display(Markdown(q8a_answer))\n",
    "print(len(vio))\n",
    "print(len(bus))\n",
    "print(len(ins))"
   ]
  },
  {
   "cell_type": "markdown",
   "metadata": {},
   "source": [
    "Let's examine the first few rows of `vio` to see if that provides addtional information about the granularity."
   ]
  },
  {
   "cell_type": "code",
   "execution_count": 123,
   "metadata": {},
   "outputs": [
    {
     "data": {
      "text/html": [
       "<div>\n",
       "<style>\n",
       "    .dataframe thead tr:only-child th {\n",
       "        text-align: right;\n",
       "    }\n",
       "\n",
       "    .dataframe thead th {\n",
       "        text-align: left;\n",
       "    }\n",
       "\n",
       "    .dataframe tbody tr th {\n",
       "        vertical-align: top;\n",
       "    }\n",
       "</style>\n",
       "<table border=\"1\" class=\"dataframe\">\n",
       "  <thead>\n",
       "    <tr style=\"text-align: right;\">\n",
       "      <th></th>\n",
       "      <th>business_id</th>\n",
       "      <th>date</th>\n",
       "      <th>description</th>\n",
       "    </tr>\n",
       "  </thead>\n",
       "  <tbody>\n",
       "    <tr>\n",
       "      <th>0</th>\n",
       "      <td>10</td>\n",
       "      <td>20160503</td>\n",
       "      <td>High risk food holding temperature   [ date vi...</td>\n",
       "    </tr>\n",
       "    <tr>\n",
       "      <th>1</th>\n",
       "      <td>10</td>\n",
       "      <td>20160503</td>\n",
       "      <td>High risk food holding temperature   [ date vi...</td>\n",
       "    </tr>\n",
       "    <tr>\n",
       "      <th>2</th>\n",
       "      <td>10</td>\n",
       "      <td>20160503</td>\n",
       "      <td>High risk vermin infestation</td>\n",
       "    </tr>\n",
       "    <tr>\n",
       "      <th>3</th>\n",
       "      <td>10</td>\n",
       "      <td>20160503</td>\n",
       "      <td>Unapproved or unmaintained equipment or utensils</td>\n",
       "    </tr>\n",
       "    <tr>\n",
       "      <th>4</th>\n",
       "      <td>10</td>\n",
       "      <td>20160503</td>\n",
       "      <td>No thermometers or uncalibrated thermometers</td>\n",
       "    </tr>\n",
       "    <tr>\n",
       "      <th>5</th>\n",
       "      <td>10</td>\n",
       "      <td>20140729</td>\n",
       "      <td>Insufficient hot water or running water  [ dat...</td>\n",
       "    </tr>\n",
       "    <tr>\n",
       "      <th>6</th>\n",
       "      <td>10</td>\n",
       "      <td>20140729</td>\n",
       "      <td>Unapproved or unmaintained equipment or utensi...</td>\n",
       "    </tr>\n",
       "    <tr>\n",
       "      <th>7</th>\n",
       "      <td>10</td>\n",
       "      <td>20140114</td>\n",
       "      <td>Improper storage of equipment utensils or line...</td>\n",
       "    </tr>\n",
       "    <tr>\n",
       "      <th>8</th>\n",
       "      <td>10</td>\n",
       "      <td>20140114</td>\n",
       "      <td>Unclean or degraded floors walls or ceilings  ...</td>\n",
       "    </tr>\n",
       "    <tr>\n",
       "      <th>9</th>\n",
       "      <td>10</td>\n",
       "      <td>20140114</td>\n",
       "      <td>Inadequate and inaccessible handwashing facili...</td>\n",
       "    </tr>\n",
       "  </tbody>\n",
       "</table>\n",
       "</div>"
      ],
      "text/plain": [
       "   business_id      date                                        description\n",
       "0           10  20160503  High risk food holding temperature   [ date vi...\n",
       "1           10  20160503  High risk food holding temperature   [ date vi...\n",
       "2           10  20160503                       High risk vermin infestation\n",
       "3           10  20160503   Unapproved or unmaintained equipment or utensils\n",
       "4           10  20160503      No thermometers or uncalibrated thermometers \n",
       "5           10  20140729  Insufficient hot water or running water  [ dat...\n",
       "6           10  20140729  Unapproved or unmaintained equipment or utensi...\n",
       "7           10  20140114  Improper storage of equipment utensils or line...\n",
       "8           10  20140114  Unclean or degraded floors walls or ceilings  ...\n",
       "9           10  20140114  Inadequate and inaccessible handwashing facili..."
      ]
     },
     "execution_count": 123,
     "metadata": {},
     "output_type": "execute_result"
    }
   ],
   "source": [
    "vio.head(10)"
   ]
  },
  {
   "cell_type": "markdown",
   "metadata": {},
   "source": [
    "Just looking at the first few records in `vio` we see that each inspection has multiple entries. Reading the descriptions, we see that if corrected, a date is listed in the description within square brackets. This date appears to be the same date as the inspection.\n",
    "We will consider how to derive features from the `description` field when we cover the topic of regular expressions."
   ]
  },
  {
   "cell_type": "markdown",
   "metadata": {},
   "source": [
    "#### Question 8b\n",
    "\n",
    "As with the inspections data frame, let's examine only records for 2016. \n",
    "Recall that the dates in the `ins` file are formatted as strings such as 20160503. As before, convert these dates into a datetime object called `new_date`, and create a new colum called `year` that contains the year only. "
   ]
  },
  {
   "cell_type": "code",
   "execution_count": 124,
   "metadata": {
    "tags": [
     "student"
    ]
   },
   "outputs": [],
   "source": [
    "vio['new_date'] = pd.to_datetime(vio[\"date\"], format = '%Y%m%d')\n",
    "vio['year'] = pd.to_datetime(vio[\"date\"], format = '%Y%m%d').dt.year\n",
    "vio2016 = vio[vio['year'] == 2016]\n"
   ]
  },
  {
   "cell_type": "code",
   "execution_count": 125,
   "metadata": {},
   "outputs": [
    {
     "name": "stdout",
     "output_type": "stream",
     "text": [
      "~~~~~~~~~~~~~~~~~~~~~~~~~~~~~~~~~~~~~~~~~~~~~~~~~~~~~~~~~~~~~~~~~~~~~\n",
      "Running tests\n",
      "\n",
      "---------------------------------------------------------------------\n",
      "Test summary\n",
      "    Passed: 1\n",
      "    Failed: 0\n",
      "[ooooooooook] 100.0% passed\n",
      "\n"
     ]
    },
    {
     "data": {
      "application/javascript": [
       "IPython.notebook.save_checkpoint();"
      ],
      "text/plain": [
       "<IPython.core.display.Javascript object>"
      ]
     },
     "metadata": {},
     "output_type": "display_data"
    },
    {
     "data": {
      "application/javascript": [
       "IPython.notebook.save_notebook();"
      ],
      "text/plain": [
       "<IPython.core.display.Javascript object>"
      ]
     },
     "metadata": {},
     "output_type": "display_data"
    },
    {
     "name": "stdout",
     "output_type": "stream",
     "text": [
      "Saving notebook... Saved 'hw2.ipynb'.\n",
      "Backup... 100% complete\n",
      "Backup successful for user: dcroce@berkeley.edu\n",
      "URL: https://okpy.org/cal/ds100/fa17/hw2/backups/0Rr7vX\n",
      "NOTE: this is only a backup. To submit your assignment, use:\n",
      "\tpython3 ok --submit\n",
      "\n"
     ]
    }
   ],
   "source": [
    "_ = ok.grade('q08b')\n",
    "_ = ok.backup()"
   ]
  },
  {
   "cell_type": "markdown",
   "metadata": {},
   "source": [
    "## Number of violations\n",
    "\n",
    "When we explore data, we often create new variables that we think might be useful in our analysis. For example, a variable that contains the number of violation records per inspection may be of interest. We might want to see if the number of inspections is correlated with the inspection score.  Or, we might be interested in whether the score improves on the second inspection. \n",
    "\n",
    "#### Question 8c\n",
    "Derive a variable, `num_vio`, that contains the number of violations in a restaurant inspection."
   ]
  },
  {
   "cell_type": "code",
   "execution_count": 126,
   "metadata": {
    "tags": [
     "student"
    ]
   },
   "outputs": [],
   "source": [
    "tomerge = vio2016.groupby([\"business_id\",\"new_date\"]).count()[\"date\"].to_frame().reset_index()\n",
    "tomerge = tomerge.rename(columns = {\"date\" : \"num_vio\"})\n",
    "ins2016 = pd.merge(ins2016, tomerge)\n"
   ]
  },
  {
   "cell_type": "code",
   "execution_count": 127,
   "metadata": {},
   "outputs": [
    {
     "data": {
      "text/html": [
       "<div>\n",
       "<style>\n",
       "    .dataframe thead tr:only-child th {\n",
       "        text-align: right;\n",
       "    }\n",
       "\n",
       "    .dataframe thead th {\n",
       "        text-align: left;\n",
       "    }\n",
       "\n",
       "    .dataframe tbody tr th {\n",
       "        vertical-align: top;\n",
       "    }\n",
       "</style>\n",
       "<table border=\"1\" class=\"dataframe\">\n",
       "  <thead>\n",
       "    <tr style=\"text-align: right;\">\n",
       "      <th></th>\n",
       "      <th>business_id</th>\n",
       "      <th>score</th>\n",
       "      <th>date</th>\n",
       "      <th>type</th>\n",
       "      <th>new_date</th>\n",
       "      <th>year</th>\n",
       "      <th>num_vio</th>\n",
       "    </tr>\n",
       "  </thead>\n",
       "  <tbody>\n",
       "    <tr>\n",
       "      <th>0</th>\n",
       "      <td>10</td>\n",
       "      <td>82</td>\n",
       "      <td>20160503</td>\n",
       "      <td>routine</td>\n",
       "      <td>2016-05-03</td>\n",
       "      <td>2016</td>\n",
       "      <td>5</td>\n",
       "    </tr>\n",
       "    <tr>\n",
       "      <th>1</th>\n",
       "      <td>19</td>\n",
       "      <td>94</td>\n",
       "      <td>20160513</td>\n",
       "      <td>routine</td>\n",
       "      <td>2016-05-13</td>\n",
       "      <td>2016</td>\n",
       "      <td>3</td>\n",
       "    </tr>\n",
       "    <tr>\n",
       "      <th>2</th>\n",
       "      <td>24</td>\n",
       "      <td>98</td>\n",
       "      <td>20161005</td>\n",
       "      <td>routine</td>\n",
       "      <td>2016-10-05</td>\n",
       "      <td>2016</td>\n",
       "      <td>1</td>\n",
       "    </tr>\n",
       "    <tr>\n",
       "      <th>3</th>\n",
       "      <td>24</td>\n",
       "      <td>96</td>\n",
       "      <td>20160311</td>\n",
       "      <td>routine</td>\n",
       "      <td>2016-03-11</td>\n",
       "      <td>2016</td>\n",
       "      <td>2</td>\n",
       "    </tr>\n",
       "    <tr>\n",
       "      <th>4</th>\n",
       "      <td>31</td>\n",
       "      <td>84</td>\n",
       "      <td>20160816</td>\n",
       "      <td>routine</td>\n",
       "      <td>2016-08-16</td>\n",
       "      <td>2016</td>\n",
       "      <td>6</td>\n",
       "    </tr>\n",
       "  </tbody>\n",
       "</table>\n",
       "</div>"
      ],
      "text/plain": [
       "   business_id  score      date     type   new_date  year  num_vio\n",
       "0           10     82  20160503  routine 2016-05-03  2016        5\n",
       "1           19     94  20160513  routine 2016-05-13  2016        3\n",
       "2           24     98  20161005  routine 2016-10-05  2016        1\n",
       "3           24     96  20160311  routine 2016-03-11  2016        2\n",
       "4           31     84  20160816  routine 2016-08-16  2016        6"
      ]
     },
     "execution_count": 127,
     "metadata": {},
     "output_type": "execute_result"
    }
   ],
   "source": [
    "ins2016.head()"
   ]
  },
  {
   "cell_type": "code",
   "execution_count": 128,
   "metadata": {},
   "outputs": [
    {
     "name": "stdout",
     "output_type": "stream",
     "text": [
      "~~~~~~~~~~~~~~~~~~~~~~~~~~~~~~~~~~~~~~~~~~~~~~~~~~~~~~~~~~~~~~~~~~~~~\n",
      "Running tests\n",
      "\n",
      "---------------------------------------------------------------------\n",
      "Test summary\n",
      "    Passed: 1\n",
      "    Failed: 0\n",
      "[ooooooooook] 100.0% passed\n",
      "\n"
     ]
    },
    {
     "data": {
      "application/javascript": [
       "IPython.notebook.save_checkpoint();"
      ],
      "text/plain": [
       "<IPython.core.display.Javascript object>"
      ]
     },
     "metadata": {},
     "output_type": "display_data"
    },
    {
     "data": {
      "application/javascript": [
       "IPython.notebook.save_notebook();"
      ],
      "text/plain": [
       "<IPython.core.display.Javascript object>"
      ]
     },
     "metadata": {},
     "output_type": "display_data"
    },
    {
     "name": "stdout",
     "output_type": "stream",
     "text": [
      "Saving notebook... Saved 'hw2.ipynb'.\n",
      "Backup... 100% complete\n",
      "Backup successful for user: dcroce@berkeley.edu\n",
      "URL: https://okpy.org/cal/ds100/fa17/hw2/backups/gJ9E16\n",
      "NOTE: this is only a backup. To submit your assignment, use:\n",
      "\tpython3 ok --submit\n",
      "\n"
     ]
    }
   ],
   "source": [
    "_ = ok.grade('q08c')\n",
    "_ = ok.backup()"
   ]
  },
  {
   "cell_type": "markdown",
   "metadata": {},
   "source": [
    "#### Question 8d\n",
    "\n",
    "Now that we have created this new varable, let's examine its distribution. \n",
    "Make a histogram of `num_vio` and describe its shape."
   ]
  },
  {
   "cell_type": "code",
   "execution_count": 129,
   "metadata": {
    "tags": [
     "student"
    ]
   },
   "outputs": [
    {
     "data": {
      "text/plain": [
       "(array([  0.00000000e+00,   1.77764326e-01,   2.25585149e-01,\n",
       "          1.93704600e-01,   1.65456013e-01,   1.01493140e-01,\n",
       "          6.19451170e-02,   3.65213882e-02,   2.17917676e-02,\n",
       "          7.86924939e-03,   4.43906376e-03,   2.62308313e-03,\n",
       "          4.03551251e-04,   2.01775626e-04,   2.01775626e-04]),\n",
       " array([ 0,  1,  2,  3,  4,  5,  6,  7,  8,  9, 10, 11, 12, 13, 14, 15]),\n",
       " <a list of 15 Patch objects>)"
      ]
     },
     "execution_count": 129,
     "metadata": {},
     "output_type": "execute_result"
    },
    {
     "data": {
      "image/png": "[encoded data removed]",
      "text/plain": [
       "<matplotlib.figure.Figure at 0x1142b7ba8>"
      ]
     },
     "metadata": {},
     "output_type": "display_data"
    }
   ],
   "source": [
    "plt.hist(ins2016['num_vio'].values, bins = np.arange(0,16), normed = True)"
   ]
  },
  {
   "cell_type": "code",
   "execution_count": 130,
   "metadata": {
    "tags": [
     "student",
     "written"
    ]
   },
   "outputs": [
    {
     "data": {
      "text/markdown": [
       "\n",
       "\n",
       "The histogram is right skew with a long tail to the right. The mode is 2. This\n",
       "means most inspections have a few number of violations.\n",
       "\n"
      ],
      "text/plain": [
       "<IPython.core.display.Markdown object>"
      ]
     },
     "metadata": {},
     "output_type": "display_data"
    }
   ],
   "source": [
    "q8d_answer = r\"\"\"\n",
    "\n",
    "The histogram is right skew with a long tail to the right. The mode is 2. This\n",
    "means most inspections have a few number of violations.\n",
    "\n",
    "\"\"\"\n",
    "\n",
    "display(Markdown(q8d_answer))\n"
   ]
  },
  {
   "cell_type": "markdown",
   "metadata": {},
   "source": [
    "## Summary of the violations data\n",
    "\n",
    "Let's take stock of what we have learned about the violations data and what might be the next steps in our investigation. \n",
    "\n",
    "* We found that the records consist of the violations that were found on an inspection. And from inspection it seems that if a violation is corrected this information is provided in the description field.\n",
    "* We also found that the distribution of the number of violations shows that some restaurants had many violations. \n",
    "* In the future, we might want to investigate the relationship between the inspection score and the number of violations. Additionally, it migth be interesting to pursue possible connections between the type of violation and the score\n"
   ]
  },
  {
   "cell_type": "markdown",
   "metadata": {},
   "source": [
    "## Submission\n",
    "\n",
    "Congrats! You are finished with HW2. For convenience, we've included a cell below that runs all the OkPy tests."
   ]
  },
  {
   "cell_type": "code",
   "execution_count": 131,
   "metadata": {},
   "outputs": [
    {
     "name": "stdout",
     "output_type": "stream",
     "text": [
      "Running all tests...\n",
      "~~~~~~~~~~~~~~~~~~~~~~~~~~~~~~~~~~~~~~~~~~~~~~~~~~~~~~~~~~~~~~~~~~~~~\n",
      "Running tests\n",
      "\n",
      "---------------------------------------------------------------------\n",
      "Test summary\n",
      "    Passed: 1\n",
      "    Failed: 0\n",
      "[ooooooooook] 100.0% passed\n",
      "\n",
      "~~~~~~~~~~~~~~~~~~~~~~~~~~~~~~~~~~~~~~~~~~~~~~~~~~~~~~~~~~~~~~~~~~~~~\n",
      "Running tests\n",
      "\n",
      "---------------------------------------------------------------------\n",
      "Test summary\n",
      "    Passed: 1\n",
      "    Failed: 0\n",
      "[ooooooooook] 100.0% passed\n",
      "\n",
      "~~~~~~~~~~~~~~~~~~~~~~~~~~~~~~~~~~~~~~~~~~~~~~~~~~~~~~~~~~~~~~~~~~~~~\n",
      "Running tests\n",
      "\n",
      "---------------------------------------------------------------------\n",
      "Test summary\n",
      "    Passed: 4\n",
      "    Failed: 0\n",
      "[ooooooooook] 100.0% passed\n",
      "\n",
      "~~~~~~~~~~~~~~~~~~~~~~~~~~~~~~~~~~~~~~~~~~~~~~~~~~~~~~~~~~~~~~~~~~~~~\n",
      "Running tests\n",
      "\n",
      "---------------------------------------------------------------------\n",
      "Test summary\n",
      "    Passed: 1\n",
      "    Failed: 0\n",
      "[ooooooooook] 100.0% passed\n",
      "\n",
      "~~~~~~~~~~~~~~~~~~~~~~~~~~~~~~~~~~~~~~~~~~~~~~~~~~~~~~~~~~~~~~~~~~~~~\n",
      "Running tests\n",
      "\n",
      "---------------------------------------------------------------------\n",
      "Test summary\n",
      "    Passed: 1\n",
      "    Failed: 0\n",
      "[ooooooooook] 100.0% passed\n",
      "\n",
      "~~~~~~~~~~~~~~~~~~~~~~~~~~~~~~~~~~~~~~~~~~~~~~~~~~~~~~~~~~~~~~~~~~~~~\n",
      "Running tests\n",
      "\n",
      "---------------------------------------------------------------------\n",
      "Test summary\n",
      "    Passed: 1\n",
      "    Failed: 0\n",
      "[ooooooooook] 100.0% passed\n",
      "\n",
      "~~~~~~~~~~~~~~~~~~~~~~~~~~~~~~~~~~~~~~~~~~~~~~~~~~~~~~~~~~~~~~~~~~~~~\n",
      "Running tests\n",
      "\n",
      "---------------------------------------------------------------------\n",
      "Test summary\n",
      "    Passed: 1\n",
      "    Failed: 0\n",
      "[ooooooooook] 100.0% passed\n",
      "\n",
      "~~~~~~~~~~~~~~~~~~~~~~~~~~~~~~~~~~~~~~~~~~~~~~~~~~~~~~~~~~~~~~~~~~~~~\n",
      "Running tests\n",
      "\n",
      "---------------------------------------------------------------------\n",
      "Test summary\n",
      "    Passed: 1\n",
      "    Failed: 0\n",
      "[ooooooooook] 100.0% passed\n",
      "\n",
      "~~~~~~~~~~~~~~~~~~~~~~~~~~~~~~~~~~~~~~~~~~~~~~~~~~~~~~~~~~~~~~~~~~~~~\n",
      "Running tests\n",
      "\n",
      "---------------------------------------------------------------------\n",
      "Test summary\n",
      "    Passed: 1\n",
      "    Failed: 0\n",
      "[ooooooooook] 100.0% passed\n",
      "\n",
      "~~~~~~~~~~~~~~~~~~~~~~~~~~~~~~~~~~~~~~~~~~~~~~~~~~~~~~~~~~~~~~~~~~~~~\n",
      "Running tests\n",
      "\n",
      "---------------------------------------------------------------------\n",
      "Test summary\n",
      "    Passed: 1\n",
      "    Failed: 0\n",
      "[ooooooooook] 100.0% passed\n",
      "\n",
      "~~~~~~~~~~~~~~~~~~~~~~~~~~~~~~~~~~~~~~~~~~~~~~~~~~~~~~~~~~~~~~~~~~~~~\n",
      "Running tests\n",
      "\n",
      "---------------------------------------------------------------------\n",
      "Test summary\n",
      "    Passed: 1\n",
      "    Failed: 0\n",
      "[ooooooooook] 100.0% passed\n",
      "\n",
      "~~~~~~~~~~~~~~~~~~~~~~~~~~~~~~~~~~~~~~~~~~~~~~~~~~~~~~~~~~~~~~~~~~~~~\n",
      "Running tests\n",
      "\n",
      "---------------------------------------------------------------------\n",
      "Test summary\n",
      "    Passed: 1\n",
      "    Failed: 0\n",
      "[ooooooooook] 100.0% passed\n",
      "\n"
     ]
    }
   ],
   "source": [
    "import os\n",
    "print(\"Running all tests...\")\n",
    "_ = [ok.grade(q[:-3]) for q in os.listdir(\"ok_tests\") if q.startswith('q')]"
   ]
  },
  {
   "cell_type": "markdown",
   "metadata": {},
   "source": [
    "Now, run the cell below to submit your assignment to OkPy. The autograder should email you shortly with your autograded score. The autograder will only run once every 30 minutes.\n",
    "\n",
    "**If you're failing tests on the autograder but pass them locally**, you should simulate the autograder by doing the following:\n",
    "\n",
    "1. In the top menu, click Kernel -> Restart and Run all.\n",
    "2. Run the cell above to run each OkPy test.\n",
    "\n",
    "**You must make sure that you pass all the tests when running steps 1 and 2 in order.** If you are still failing autograder tests, you should double check your results."
   ]
  },
  {
   "cell_type": "code",
   "execution_count": 132,
   "metadata": {},
   "outputs": [
    {
     "data": {
      "application/javascript": [
       "IPython.notebook.save_checkpoint();"
      ],
      "text/plain": [
       "<IPython.core.display.Javascript object>"
      ]
     },
     "metadata": {},
     "output_type": "display_data"
    },
    {
     "data": {
      "application/javascript": [
       "IPython.notebook.save_notebook();"
      ],
      "text/plain": [
       "<IPython.core.display.Javascript object>"
      ]
     },
     "metadata": {},
     "output_type": "display_data"
    },
    {
     "name": "stdout",
     "output_type": "stream",
     "text": [
      "Saving notebook... Saved 'hw2.ipynb'.\n",
      "Submit... 100% complete\n",
      "Submission successful for user: dcroce@berkeley.edu\n",
      "URL: https://okpy.org/cal/ds100/fa17/hw2/submissions/jR9K75\n",
      "NOTE: this is only a backup. To submit your assignment, use:\n",
      "\tpython3 ok --submit\n",
      "\n"
     ]
    }
   ],
   "source": [
    "_ = ok.submit()"
   ]
  },
  {
   "cell_type": "markdown",
   "metadata": {},
   "source": [
    "Also, as of this writing there's a bug in OkPy where it will say:\n",
    "\n",
    "```\n",
    "NOTE: this is only a backup. To submit your assignment, use:\n",
    "\tpython3 ok --submit\n",
    "```\n",
    "\n",
    "when running the cell above. Don't worry about that; if you can visit OkPy and see your submission, you've submitted the assignment.\n",
    "\n",
    "Even if you forget to run the cell above, we'll automatically take your latest backup when grading so don't worry about that."
   ]
  }
 ],
 "metadata": {
  "anaconda-cloud": {},
  "kernelspec": {
   "display_name": "Python 3",
   "language": "python",
   "name": "python3"
  },
  "language_info": {
   "codemirror_mode": {
    "name": "ipython",
    "version": 3
   },
   "file_extension": ".py",
   "mimetype": "text/x-python",
   "name": "python",
   "nbconvert_exporter": "python",
   "pygments_lexer": "ipython3",
   "version": "3.6.1"
  }
 },
 "nbformat": 4,
 "nbformat_minor": 2
}
